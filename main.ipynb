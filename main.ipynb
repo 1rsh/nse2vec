{
 "cells": [
  {
   "cell_type": "markdown",
   "metadata": {},
   "source": [
    "### Train"
   ]
  },
  {
   "cell_type": "code",
   "execution_count": 1,
   "metadata": {},
   "outputs": [],
   "source": [
    "import pandas as pd\n",
    "import numpy as np"
   ]
  },
  {
   "cell_type": "code",
   "execution_count": 2,
   "metadata": {},
   "outputs": [
    {
     "name": "stdout",
     "output_type": "stream",
     "text": [
      "Running for period 1\n",
      "No change made because period entered is 1\n"
     ]
    },
    {
     "name": "stderr",
     "output_type": "stream",
     "text": [
      "100%|██████████| 809/809 [00:01<00:00, 723.19it/s] "
     ]
    },
    {
     "name": "stdout",
     "output_type": "stream",
     "text": [
      "====================\n",
      "Total number of target context sets: 232470\n"
     ]
    },
    {
     "name": "stderr",
     "output_type": "stream",
     "text": [
      "\n"
     ]
    }
   ],
   "source": [
    "from utils.stock_data import StockData\n",
    "from utils.format_data import generate_target_context_idx_pairs\n",
    "\n",
    "PERIODS = [1]\n",
    "TRAIN_PCT = 1\n",
    "CONTEXT_SIZE = 32\n",
    "\n",
    "tgt_context_sets = []\n",
    "for period in PERIODS:\n",
    "    print(f\"Running for period {period}\")\n",
    "    data = StockData(\n",
    "        daily_returns_path=\"data/returns_df_528_nse.csv\",\n",
    "        extras_path=\"data/nse_historical_stocks.csv\"\n",
    "    )\n",
    "    data.change_returns_period(period)\n",
    "    data.train_test_split(TRAIN_PCT)\n",
    "\n",
    "    tgt_context_sets += generate_target_context_idx_pairs(\n",
    "        data.train_returns_df,\n",
    "        context_size=CONTEXT_SIZE,\n",
    "        verbose=True,\n",
    "        iqr_noise_reduction=True,\n",
    "    )\n",
    "    print(\"=\"*20)\n",
    "print(f\"Total number of target context sets: {len(tgt_context_sets)}\")"
   ]
  },
  {
   "cell_type": "code",
   "execution_count": 3,
   "metadata": {},
   "outputs": [
    {
     "data": {
      "text/plain": [
       "StockData(\n",
       "    directory=data/returns_df_528_nse.csv,\n",
       "    num_stocks=809,\n",
       "    num_sectors=12,\n",
       "    period=1\n",
       ")"
      ]
     },
     "execution_count": 3,
     "metadata": {},
     "output_type": "execute_result"
    }
   ],
   "source": [
    "data"
   ]
  },
  {
   "cell_type": "code",
   "execution_count": 4,
   "metadata": {},
   "outputs": [
    {
     "name": "stdout",
     "output_type": "stream",
     "text": [
      "The most commonly co-occurring stocks with HDFCBANK.NS are: ['SIEMENS.NS', 'VESUVIUS.NS', 'OCCL.NS', 'GARFIBRES.NS', 'LALPATHLAB.NS']\n"
     ]
    }
   ],
   "source": [
    "ticker = \"HDFCBANK.NS\"\n",
    "i = data.ticker2idx[ticker]\n",
    "temp = np.array([xi[1] for xi in tgt_context_sets if xi[0] == i]).flatten()\n",
    "print(\n",
    "    f\"The most commonly co-occurring stocks with {ticker} are: {[data.idx2ticker[xi] for xi in pd.Series(temp).value_counts().index][:5]}\"\n",
    ")"
   ]
  },
  {
   "cell_type": "code",
   "execution_count": 11,
   "metadata": {},
   "outputs": [
    {
     "data": {
      "text/plain": [
       "NSE2Vec(\n",
       "  (embeddings): Embedding(809, 128)\n",
       ")"
      ]
     },
     "execution_count": 11,
     "metadata": {},
     "output_type": "execute_result"
    }
   ],
   "source": [
    "from utils.model import NSE2Vec\n",
    "\n",
    "EMBEDDING_DIM = 128\n",
    "model = NSE2Vec(\n",
    "    n_time_series=len(data.tickers), embedding_dim=EMBEDDING_DIM\n",
    ")\n",
    "\n",
    "model"
   ]
  },
  {
   "cell_type": "code",
   "execution_count": 12,
   "metadata": {},
   "outputs": [
    {
     "name": "stdout",
     "output_type": "stream",
     "text": [
      "Training embeddings...\n"
     ]
    },
    {
     "name": "stderr",
     "output_type": "stream",
     "text": [
      " 20%|██        | 1/5 [00:16<01:06, 16.68s/it]"
     ]
    },
    {
     "name": "stdout",
     "output_type": "stream",
     "text": [
      "All labels in y_pred?: True\n",
      "Precision Score: 0.7\n",
      "Recall Score: 0.66\n",
      "F1 Score: 0.67\n",
      "Accuracy Score: 0.66\n",
      "Accuracy Score Top-3: 0.78\n",
      "Epoch 1: Loss = 0.0560\r"
     ]
    },
    {
     "name": "stderr",
     "output_type": "stream",
     "text": [
      " 40%|████      | 2/5 [00:33<00:49, 16.61s/it]"
     ]
    },
    {
     "name": "stdout",
     "output_type": "stream",
     "text": [
      "All labels in y_pred?: True\n",
      "Precision Score: 0.72\n",
      "Recall Score: 0.65\n",
      "F1 Score: 0.67\n",
      "Accuracy Score: 0.65\n",
      "Accuracy Score Top-3: 0.77\n",
      "Epoch 2: Loss = 0.0418\r"
     ]
    },
    {
     "name": "stderr",
     "output_type": "stream",
     "text": [
      " 60%|██████    | 3/5 [00:50<00:33, 16.73s/it]"
     ]
    },
    {
     "name": "stdout",
     "output_type": "stream",
     "text": [
      "All labels in y_pred?: True\n",
      "Precision Score: 0.67\n",
      "Recall Score: 0.63\n",
      "F1 Score: 0.65\n",
      "Accuracy Score: 0.63\n",
      "Accuracy Score Top-3: 0.78\n",
      "Epoch 3: Loss = 0.0363\r"
     ]
    },
    {
     "name": "stderr",
     "output_type": "stream",
     "text": [
      " 80%|████████  | 4/5 [01:06<00:16, 16.66s/it]"
     ]
    },
    {
     "name": "stdout",
     "output_type": "stream",
     "text": [
      "All labels in y_pred?: True\n",
      "Precision Score: 0.66\n",
      "Recall Score: 0.63\n",
      "F1 Score: 0.63\n",
      "Accuracy Score: 0.63\n",
      "Accuracy Score Top-3: 0.8\n",
      "Epoch 4: Loss = 0.0335\r"
     ]
    },
    {
     "name": "stderr",
     "output_type": "stream",
     "text": [
      "100%|██████████| 5/5 [01:23<00:00, 16.76s/it]"
     ]
    },
    {
     "name": "stdout",
     "output_type": "stream",
     "text": [
      "All labels in y_pred?: True\n",
      "Precision Score: 0.62\n",
      "Recall Score: 0.62\n",
      "F1 Score: 0.61\n",
      "Accuracy Score: 0.62\n",
      "Accuracy Score Top-3: 0.76\n",
      "Epoch 5: Loss = 0.0319\r"
     ]
    },
    {
     "name": "stderr",
     "output_type": "stream",
     "text": [
      "\n"
     ]
    }
   ],
   "source": [
    "from utils.evaluate import evaluate_embeddings\n",
    "from utils.train import train\n",
    "\n",
    "EPOCHS = 5\n",
    "\n",
    "model, losses = train(\n",
    "    n_time_series=len(data.tickers),\n",
    "    tgt_context_sets=tgt_context_sets,\n",
    "    model=model,\n",
    "    epochs=EPOCHS,\n",
    "    batch_size=128,\n",
    "    early_stopping=False,\n",
    "    device=\"mps\",\n",
    "    learning_rate = 1e-3,\n",
    "    # embedding_dim=EMBEDDING_DIM,\n",
    "    verbose=True,\n",
    "    sectors=data.sectors\n",
    ")"
   ]
  },
  {
   "cell_type": "code",
   "execution_count": 9,
   "metadata": {},
   "outputs": [
    {
     "data": {
      "image/png": "[encoded data removed]",
      "text/plain": [
       "<Figure size 640x480 with 1 Axes>"
      ]
     },
     "metadata": {},
     "output_type": "display_data"
    }
   ],
   "source": [
    "import matplotlib.pyplot as plt\n",
    "\n",
    "sub_losses = losses[:]\n",
    "\n",
    "plt.plot(range(1, len(sub_losses)+1), sub_losses)\n",
    "plt.title(\"Loss over Epochs\")\n",
    "plt.xticks(range(1, len(sub_losses)+1, max(1, len(sub_losses)//10)))\n",
    "plt.show()"
   ]
  },
  {
   "cell_type": "code",
   "execution_count": 39,
   "metadata": {},
   "outputs": [],
   "source": [
    "# model.save_model(\"nse_n_bse_1.pt\")"
   ]
  },
  {
   "cell_type": "markdown",
   "metadata": {},
   "source": [
    "### Evaluate"
   ]
  },
  {
   "cell_type": "code",
   "execution_count": 16,
   "metadata": {},
   "outputs": [],
   "source": [
    "model = NSE2Vec(n_time_series=len(data.tickers), embedding_dim=128).load_model(\"nse2vec.pt\")"
   ]
  },
  {
   "cell_type": "code",
   "execution_count": 19,
   "metadata": {},
   "outputs": [
    {
     "name": "stdout",
     "output_type": "stream",
     "text": [
      "All labels in y_pred?: True\n",
      "Precision Score: 0.64\n",
      "Recall Score: 0.64\n",
      "F1 Score: 0.64\n",
      "Accuracy Score: 0.64\n",
      "Accuracy Score Top-3: 0.79\n"
     ]
    }
   ],
   "source": [
    "evaluate_embeddings(model.embeddings.weight.detach().cpu().numpy(), sectors=data.sectors, top_k_accuracy=True, smote=True, n_splits=5)"
   ]
  },
  {
   "cell_type": "markdown",
   "metadata": {},
   "source": [
    "#### Results\n",
    "| Data | Train Epochs | Accuracy | Accuracy (top 3) |\n",
    "| --- | --- | --- | --- |\n",
    "| NSE+BSE | 10 | 0.64 | 0.79 |\n",
    "| NSE | 10 | 0.65 | 0.81 |"
   ]
  },
  {
   "cell_type": "code",
   "execution_count": 22,
   "metadata": {},
   "outputs": [],
   "source": [
    "from utils.visualize import visualize_embeddings\n",
    "\n",
    "visualize_embeddings(\n",
    "    embedding_matrix=model.embeddings.weight.detach().cpu().numpy(),\n",
    "    tickers=data.tickers,\n",
    "    industries=data.industries,\n",
    "    sectors=data.sectors,\n",
    "    names=data.tickers,\n",
    "    dimensions=2,\n",
    "    reduced=True,\n",
    "    method=\"PCA\",\n",
    "    return_df=False,\n",
    "    rand_state=None,\n",
    ")"
   ]
  },
  {
   "cell_type": "code",
   "execution_count": null,
   "metadata": {},
   "outputs": [],
   "source": []
  }
 ],
 "metadata": {
  "kernelspec": {
   "display_name": "speaker_verification",
   "language": "python",
   "name": "python3"
  },
  "language_info": {
   "codemirror_mode": {
    "name": "ipython",
    "version": 3
   },
   "file_extension": ".py",
   "mimetype": "text/x-python",
   "name": "python",
   "nbconvert_exporter": "python",
   "pygments_lexer": "ipython3",
   "version": "3.9.19"
  }
 },
 "nbformat": 4,
 "nbformat_minor": 2
}
