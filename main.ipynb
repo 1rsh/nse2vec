{
 "cells": [
  {
   "cell_type": "markdown",
   "metadata": {},
   "source": [
    "### Train"
   ]
  },
  {
   "cell_type": "code",
   "execution_count": 1,
   "metadata": {},
   "outputs": [],
   "source": [
    "import pandas as pd\n",
    "import numpy as np"
   ]
  },
  {
   "cell_type": "code",
   "execution_count": 15,
   "metadata": {},
   "outputs": [
    {
     "name": "stdout",
     "output_type": "stream",
     "text": [
      "Running for period 1\n",
      "No change made because period entered is 1\n"
     ]
    },
    {
     "name": "stderr",
     "output_type": "stream",
     "text": [
      "100%|██████████| 1119/1119 [00:10<00:00, 107.55it/s]"
     ]
    },
    {
     "name": "stdout",
     "output_type": "stream",
     "text": [
      "====================\n",
      "Total number of target context sets: 2238795\n"
     ]
    },
    {
     "name": "stderr",
     "output_type": "stream",
     "text": [
      "\n"
     ]
    }
   ],
   "source": [
    "from utils.stock_data import StockData\n",
    "from utils.format_data import generate_target_context_idx_pairs\n",
    "\n",
    "PERIODS = [1]\n",
    "TRAIN_PCT = 1\n",
    "CONTEXT_SIZE = 32\n",
    "\n",
    "tgt_context_sets = []\n",
    "for period in PERIODS:\n",
    "    print(f\"Running for period {period}\")\n",
    "    data = StockData(\n",
    "        daily_returns_path=\"data/nsenbse-data.csv\",\n",
    "        extras_path=\"data/historical-stocks.csv\"\n",
    "    )\n",
    "    data.change_returns_period(period)\n",
    "    data.train_test_split(TRAIN_PCT)\n",
    "\n",
    "    tgt_context_sets += generate_target_context_idx_pairs(\n",
    "        data.train_returns_df,\n",
    "        context_size=CONTEXT_SIZE,\n",
    "        verbose=True,\n",
    "        iqr_noise_reduction=True,\n",
    "    )\n",
    "    print(\"=\"*20)\n",
    "print(f\"Total number of target context sets: {len(tgt_context_sets)}\")"
   ]
  },
  {
   "cell_type": "code",
   "execution_count": 16,
   "metadata": {},
   "outputs": [
    {
     "data": {
      "text/plain": [
       "StockData(\n",
       "    directory=data/nsenbse-data.csv,\n",
       "    num_stocks=1119,\n",
       "    num_sectors=11,\n",
       "    period=1\n",
       ")"
      ]
     },
     "execution_count": 16,
     "metadata": {},
     "output_type": "execute_result"
    }
   ],
   "source": [
    "data"
   ]
  },
  {
   "cell_type": "code",
   "execution_count": 17,
   "metadata": {},
   "outputs": [
    {
     "name": "stdout",
     "output_type": "stream",
     "text": [
      "The most commonly co-occurring stocks with HDFCBANK.NS are: ['HDFCBANK.BO', 'KOTAKBANK.NS', 'AXISBANK.NS', 'KOTAKBANK.BO', 'TCS.BO']\n"
     ]
    }
   ],
   "source": [
    "ticker = \"HDFCBANK.NS\"\n",
    "i = data.ticker2idx[ticker]\n",
    "temp = np.array([xi[1] for xi in tgt_context_sets if xi[0] == i]).flatten()\n",
    "print(\n",
    "    f\"The most commonly co-occurring stocks with {ticker} are: {[data.idx2ticker[xi] for xi in pd.Series(temp).value_counts().index][:5]}\"\n",
    ")"
   ]
  },
  {
   "cell_type": "code",
   "execution_count": 18,
   "metadata": {},
   "outputs": [
    {
     "data": {
      "text/plain": [
       "NSE2Vec(\n",
       "  (embeddings): Embedding(1119, 128)\n",
       ")"
      ]
     },
     "execution_count": 18,
     "metadata": {},
     "output_type": "execute_result"
    }
   ],
   "source": [
    "from utils.model import NSE2Vec\n",
    "\n",
    "EMBEDDING_DIM = 128\n",
    "model = NSE2Vec(\n",
    "    n_time_series=len(data.tickers), embedding_dim=EMBEDDING_DIM\n",
    ")\n",
    "\n",
    "model"
   ]
  },
  {
   "cell_type": "code",
   "execution_count": 19,
   "metadata": {},
   "outputs": [
    {
     "name": "stdout",
     "output_type": "stream",
     "text": [
      "Training embeddings...\n"
     ]
    },
    {
     "name": "stderr",
     "output_type": "stream",
     "text": [
      " 20%|██        | 1/5 [02:04<08:17, 124.46s/it]"
     ]
    },
    {
     "name": "stdout",
     "output_type": "stream",
     "text": [
      "All labels in y_pred?: True\n",
      "Precision Score: 0.73\n",
      "Recall Score: 0.71\n",
      "F1 Score: 0.72\n",
      "Accuracy Score: 0.71\n",
      "Accuracy Score Top-3: 0.86\n",
      "Epoch 1: Loss = 0.0386\r"
     ]
    },
    {
     "name": "stderr",
     "output_type": "stream",
     "text": [
      " 40%|████      | 2/5 [04:19<06:32, 130.73s/it]"
     ]
    },
    {
     "name": "stdout",
     "output_type": "stream",
     "text": [
      "All labels in y_pred?: True\n",
      "Precision Score: 0.76\n",
      "Recall Score: 0.75\n",
      "F1 Score: 0.75\n",
      "Accuracy Score: 0.75\n",
      "Accuracy Score Top-3: 0.87\n",
      "Epoch 2: Loss = 0.0320\r"
     ]
    },
    {
     "name": "stderr",
     "output_type": "stream",
     "text": [
      " 60%|██████    | 3/5 [06:33<04:24, 132.27s/it]"
     ]
    },
    {
     "name": "stdout",
     "output_type": "stream",
     "text": [
      "All labels in y_pred?: True\n",
      "Precision Score: 0.75\n",
      "Recall Score: 0.73\n",
      "F1 Score: 0.74\n",
      "Accuracy Score: 0.73\n",
      "Accuracy Score Top-3: 0.88\n",
      "Epoch 3: Loss = 0.0315\r"
     ]
    },
    {
     "name": "stderr",
     "output_type": "stream",
     "text": [
      " 80%|████████  | 4/5 [08:42<02:10, 130.99s/it]"
     ]
    },
    {
     "name": "stdout",
     "output_type": "stream",
     "text": [
      "All labels in y_pred?: True\n",
      "Precision Score: 0.74\n",
      "Recall Score: 0.74\n",
      "F1 Score: 0.74\n",
      "Accuracy Score: 0.74\n",
      "Accuracy Score Top-3: 0.91\n",
      "Epoch 4: Loss = 0.0314\r"
     ]
    },
    {
     "name": "stderr",
     "output_type": "stream",
     "text": [
      "100%|██████████| 5/5 [10:48<00:00, 129.75s/it]"
     ]
    },
    {
     "name": "stdout",
     "output_type": "stream",
     "text": [
      "All labels in y_pred?: True\n",
      "Precision Score: 0.79\n",
      "Recall Score: 0.78\n",
      "F1 Score: 0.78\n",
      "Accuracy Score: 0.78\n",
      "Accuracy Score Top-3: 0.9\n",
      "Epoch 5: Loss = 0.0313\r"
     ]
    },
    {
     "name": "stderr",
     "output_type": "stream",
     "text": [
      "\n"
     ]
    }
   ],
   "source": [
    "from utils.evaluate import evaluate_embeddings\n",
    "from utils.train import train\n",
    "\n",
    "EPOCHS = 5\n",
    "\n",
    "model, losses = train(\n",
    "    n_time_series=len(data.tickers),\n",
    "    tgt_context_sets=tgt_context_sets,\n",
    "    model=model,\n",
    "    epochs=EPOCHS,\n",
    "    batch_size=128,\n",
    "    early_stopping=False,\n",
    "    device=\"mps\",\n",
    "    learning_rate = 1e-3,\n",
    "    verbose=True,\n",
    "    sectors=data.sectors\n",
    ")"
   ]
  },
  {
   "cell_type": "code",
   "execution_count": 20,
   "metadata": {},
   "outputs": [
    {
     "data": {
      "image/png": "[encoded data removed]",
      "text/plain": [
       "<Figure size 640x480 with 1 Axes>"
      ]
     },
     "metadata": {},
     "output_type": "display_data"
    }
   ],
   "source": [
    "import matplotlib.pyplot as plt\n",
    "\n",
    "sub_losses = losses[:]\n",
    "\n",
    "plt.plot(range(1, len(sub_losses)+1), sub_losses)\n",
    "plt.title(\"Loss over Epochs\")\n",
    "plt.xticks(range(1, len(sub_losses)+1, max(1, len(sub_losses)//10)))\n",
    "plt.show()"
   ]
  },
  {
   "cell_type": "code",
   "execution_count": 21,
   "metadata": {},
   "outputs": [],
   "source": [
    "model.save_model(\"nsenbse2vec.pt\")"
   ]
  },
  {
   "cell_type": "markdown",
   "metadata": {},
   "source": [
    "### Evaluate"
   ]
  },
  {
   "cell_type": "code",
   "execution_count": 22,
   "metadata": {},
   "outputs": [],
   "source": [
    "model = NSE2Vec(n_time_series=len(data.tickers), embedding_dim=128).load_model(\"nsenbse2vec.pt\")"
   ]
  },
  {
   "cell_type": "code",
   "execution_count": 23,
   "metadata": {},
   "outputs": [
    {
     "name": "stdout",
     "output_type": "stream",
     "text": [
      "All labels in y_pred?: True\n",
      "Precision Score: 0.75\n",
      "Recall Score: 0.76\n",
      "F1 Score: 0.75\n",
      "Accuracy Score: 0.76\n",
      "Accuracy Score Top-3: 0.9\n"
     ]
    }
   ],
   "source": [
    "evaluate_embeddings(model.embeddings.weight.detach().cpu().numpy(), sectors=data.sectors, top_k_accuracy=True, smote=True, n_splits=5)"
   ]
  },
  {
   "cell_type": "markdown",
   "metadata": {},
   "source": [
    "#### Results\n",
    "| Data | Train Epochs | Accuracy | Accuracy (top 3) |\n",
    "| --- | --- | --- | --- |\n",
    "| NSE+BSE | 5 | 0.76 | 0.9 |\n",
    "| NSE | 5 | 0.75 | 0.9 |"
   ]
  },
  {
   "cell_type": "code",
   "execution_count": 31,
   "metadata": {},
   "outputs": [
    {
     "data": {
      "application/vnd.plotly.v1+json": {
       "config": {
        "plotlyServerURL": "https://plot.ly"
       },
       "data": [
        {
         "customdata": [
          [
           "63MOONS.BO",
           "TECHNOLOGY",
           "IT Consulting & Software"
          ],
          [
           "63MOONS.NS",
           "TECHNOLOGY",
           "IT Consulting & Software"
          ],
          [
           "ACCELYA.BO",
           "TECHNOLOGY",
           "IT Consulting & Software"
          ],
          [
           "ACCELYA.NS",
           "TECHNOLOGY",
           "IT Consulting & Software"
          ],
          [
           "ADSL.BO",
           "TECHNOLOGY",
           "IT Consulting & Software"
          ],
          [
           "ADSL.NS",
           "TECHNOLOGY",
           "IT Consulting & Software"
          ],
          [
           "AKSHOPTFBR.BO",
           "TECHNOLOGY",
           "Cables - Telecom"
          ],
          [
           "AKSHOPTFBR.NS",
           "TECHNOLOGY",
           "Cables - Telecom"
          ],
          [
           "ALLSEC.BO",
           "TECHNOLOGY",
           "IT Enabled Services"
          ],
          [
           "ALLSEC.NS",
           "TECHNOLOGY",
           "IT Enabled Services"
          ],
          [
           "APTECHT.BO",
           "TECHNOLOGY",
           "IT Training Services"
          ],
          [
           "APTECHT.NS",
           "TECHNOLOGY",
           "IT Training Services"
          ],
          [
           "AURIONPRO.BO",
           "TECHNOLOGY",
           "IT Consulting & Software"
          ],
          [
           "AURIONPRO.NS",
           "TECHNOLOGY",
           "IT Consulting & Software"
          ],
          [
           "AXISCADES.BO",
           "TECHNOLOGY",
           "IT Enabled Services"
          ],
          [
           "AXISCADES.NS",
           "TECHNOLOGY",
           "IT Enabled Services"
          ],
          [
           "BIRLACABLE.BO",
           "TECHNOLOGY",
           "Cables - Telecom"
          ],
          [
           "BIRLACABLE.NS",
           "TECHNOLOGY",
           "Cables - Telecom"
          ],
          [
           "BSOFT.NS",
           "TECHNOLOGY",
           "IT Consulting & Software"
          ],
          [
           "CALSOFT.BO",
           "TECHNOLOGY",
           "IT Consulting & Software"
          ],
          [
           "CALSOFT.NS",
           "TECHNOLOGY",
           "IT Consulting & Software"
          ],
          [
           "CENTUM.BO",
           "TECHNOLOGY",
           "Electronics - Equipment/Components"
          ],
          [
           "CENTUM.NS",
           "TECHNOLOGY",
           "Electronics - Equipment/Components"
          ],
          [
           "CEREBRAINT.BO",
           "TECHNOLOGY",
           "IT Networking Equipment"
          ],
          [
           "CONTROLPR.BO",
           "TECHNOLOGY",
           "IT Networking Equipment"
          ],
          [
           "CTE.BO",
           "TECHNOLOGY",
           "IT Consulting & Software"
          ],
          [
           "CTE.NS",
           "TECHNOLOGY",
           "IT Consulting & Software"
          ],
          [
           "CYBERTECH.BO",
           "TECHNOLOGY",
           "IT Consulting & Software"
          ],
          [
           "CYBERTECH.NS",
           "TECHNOLOGY",
           "IT Consulting & Software"
          ],
          [
           "CYIENT.BO",
           "TECHNOLOGY",
           "IT Consulting & Software"
          ],
          [
           "CYIENT.NS",
           "TECHNOLOGY",
           "IT Consulting & Software"
          ],
          [
           "DATAMATICS.NS",
           "TECHNOLOGY",
           "IT Consulting & Software"
          ],
          [
           "DELTAMAGNT.BO",
           "TECHNOLOGY",
           "Electronics - Equipment/Components"
          ],
          [
           "DLINKINDIA.BO",
           "TECHNOLOGY",
           "IT Networking Equipment"
          ],
          [
           "DLINKINDIA.NS",
           "TECHNOLOGY",
           "IT Networking Equipment"
          ],
          [
           "DSSL.BO",
           "TECHNOLOGY",
           "IT Consulting & Software"
          ],
          [
           "DSSL.NS",
           "TECHNOLOGY",
           "IT Consulting & Software"
          ],
          [
           "DYNAMATECH.BO",
           "TECHNOLOGY",
           "Electronics - Equipment/Components"
          ],
          [
           "DYNAMATECH.NS",
           "TECHNOLOGY",
           "Electronics - Equipment/Components"
          ],
          [
           "ECLERX.BO",
           "TECHNOLOGY",
           "IT Enabled Services"
          ],
          [
           "ECLERX.NS",
           "TECHNOLOGY",
           "IT Enabled Services"
          ],
          [
           "FSL.BO",
           "TECHNOLOGY",
           "IT Enabled Services"
          ],
          [
           "FSL.NS",
           "TECHNOLOGY",
           "IT Enabled Services"
          ],
          [
           "GENESYS.BO",
           "TECHNOLOGY",
           "IT Consulting & Software"
          ],
          [
           "GENESYS.NS",
           "TECHNOLOGY",
           "IT Consulting & Software"
          ],
          [
           "GOLDTECH.NS",
           "TECHNOLOGY",
           "IT Consulting & Software"
          ],
          [
           "GSS.BO",
           "TECHNOLOGY",
           "IT Consulting & Software"
          ],
          [
           "GSS.NS",
           "TECHNOLOGY",
           "IT Consulting & Software"
          ],
          [
           "GTL.BO",
           "TECHNOLOGY",
           "Telecom Services"
          ],
          [
           "GTL.NS",
           "TECHNOLOGY",
           "Telecom Services"
          ],
          [
           "GTLINFRA.BO",
           "TECHNOLOGY",
           "Telecom Equipment"
          ],
          [
           "GTLINFRA.NS",
           "TECHNOLOGY",
           "Telecom Equipment"
          ],
          [
           "HCL-INSYS.BO",
           "TECHNOLOGY",
           "IT Networking Equipment"
          ],
          [
           "HCLTECH.BO",
           "TECHNOLOGY",
           "IT Consulting & Software"
          ],
          [
           "HCLTECH.NS",
           "TECHNOLOGY",
           "IT Consulting & Software"
          ],
          [
           "HFCL.BO",
           "TECHNOLOGY",
           "Telecom Equipment"
          ],
          [
           "HFCL.NS",
           "TECHNOLOGY",
           "Telecom Equipment"
          ],
          [
           "HGS.BO",
           "TECHNOLOGY",
           "IT Enabled Services"
          ],
          [
           "HGS.NS",
           "TECHNOLOGY",
           "IT Enabled Services"
          ],
          [
           "HIRECT.BO",
           "TECHNOLOGY",
           "Electronics - Equipment/Components"
          ],
          [
           "HIRECT.NS",
           "TECHNOLOGY",
           "Electronics - Equipment/Components"
          ],
          [
           "HOVS.BO",
           "TECHNOLOGY",
           "IT Enabled Services"
          ],
          [
           "INFY.NS",
           "TECHNOLOGY",
           "IT Consulting & Software"
          ],
          [
           "ITI.BO",
           "TECHNOLOGY",
           "Telecom Equipment"
          ],
          [
           "ITI.NS",
           "TECHNOLOGY",
           "Telecom Equipment"
          ],
          [
           "IZMO.NS",
           "TECHNOLOGY",
           "IT Consulting & Software"
          ],
          [
           "KAVVERITEL.BO",
           "TECHNOLOGY",
           "Telecom Equipment"
          ],
          [
           "KAVVERITEL.NS",
           "TECHNOLOGY",
           "Telecom Equipment"
          ],
          [
           "MPHASIS.BO",
           "TECHNOLOGY",
           "IT Consulting & Software"
          ],
          [
           "MPHASIS.NS",
           "TECHNOLOGY",
           "IT Consulting & Software"
          ],
          [
           "NELCO.BO",
           "TECHNOLOGY",
           "Telecom Equipment"
          ],
          [
           "NELCO.NS",
           "TECHNOLOGY",
           "Telecom Equipment"
          ],
          [
           "NIITLTD.BO",
           "TECHNOLOGY",
           "IT Training Services"
          ],
          [
           "NIITLTD.NS",
           "TECHNOLOGY",
           "IT Training Services"
          ],
          [
           "NUCLEUS.NS",
           "TECHNOLOGY",
           "IT Consulting & Software"
          ],
          [
           "OFSS.BO",
           "TECHNOLOGY",
           "IT Consulting & Software"
          ],
          [
           "OFSS.NS",
           "TECHNOLOGY",
           "IT Consulting & Software"
          ],
          [
           "ONMOBILE.BO",
           "TECHNOLOGY",
           "Telecom Services"
          ],
          [
           "ONMOBILE.NS",
           "TECHNOLOGY",
           "Telecom Services"
          ],
          [
           "ONWARDTEC.NS",
           "TECHNOLOGY",
           "IT Consulting & Software"
          ],
          [
           "OPTIEMUS.BO",
           "TECHNOLOGY",
           "Telecom Equipment"
          ],
          [
           "QUINTEGRA.BO",
           "TECHNOLOGY",
           "IT Consulting & Software"
          ],
          [
           "QUINTEGRA.NS",
           "TECHNOLOGY",
           "IT Consulting & Software"
          ],
          [
           "SHYAMTEL.NS",
           "TECHNOLOGY",
           "Telecom Equipment"
          ],
          [
           "TANLA.NS",
           "TECHNOLOGY",
           "IT Consulting & Software"
          ],
          [
           "TATACOMM.BO",
           "TECHNOLOGY",
           "Telecom Services"
          ],
          [
           "TATACOMM.NS",
           "TECHNOLOGY",
           "Telecom Services"
          ],
          [
           "TATAELXSI.BO",
           "TECHNOLOGY",
           "IT Consulting & Software"
          ],
          [
           "TATAELXSI.NS",
           "TECHNOLOGY",
           "IT Consulting & Software"
          ],
          [
           "TCS.BO",
           "TECHNOLOGY",
           "IT Consulting & Software"
          ],
          [
           "TCS.NS",
           "TECHNOLOGY",
           "IT Consulting & Software"
          ],
          [
           "TECHM.BO",
           "TECHNOLOGY",
           "IT Consulting & Software"
          ],
          [
           "TECHM.NS",
           "TECHNOLOGY",
           "IT Consulting & Software"
          ],
          [
           "TERASOFT.BO",
           "TECHNOLOGY",
           "IT Consulting & Software"
          ],
          [
           "TNTELE.BO",
           "TECHNOLOGY",
           "Cables - Telecom"
          ],
          [
           "TNTELE.NS",
           "TECHNOLOGY",
           "Cables - Telecom"
          ],
          [
           "TTML.BO",
           "TECHNOLOGY",
           "Telecom Services"
          ],
          [
           "TTML.NS",
           "TECHNOLOGY",
           "Telecom Services"
          ],
          [
           "TVSELECT.BO",
           "TECHNOLOGY",
           "IT Networking Equipment"
          ],
          [
           "TVSELECT.NS",
           "TECHNOLOGY",
           "IT Networking Equipment"
          ],
          [
           "VAKRANGEE.BO",
           "TECHNOLOGY",
           "IT Consulting & Software"
          ],
          [
           "VAKRANGEE.NS",
           "TECHNOLOGY",
           "IT Consulting & Software"
          ],
          [
           "VINDHYATEL.BO",
           "TECHNOLOGY",
           "Cables - Telecom"
          ],
          [
           "VINDHYATEL.NS",
           "TECHNOLOGY",
           "Cables - Telecom"
          ],
          [
           "VIRINCHI.BO",
           "TECHNOLOGY",
           "IT Consulting & Software"
          ],
          [
           "ZENSARTECH.BO",
           "TECHNOLOGY",
           "IT Consulting & Software"
          ],
          [
           "ZENSARTECH.NS",
           "TECHNOLOGY",
           "IT Consulting & Software"
          ]
         ],
         "hovertemplate": "<b>%{hovertext}</b><br><br>Sector=%{customdata[1]}<br>PC1=%{x}<br>PC2=%{y}<br>ticker=%{customdata[0]}<br>industry=%{customdata[2]}<extra></extra>",
         "hovertext": [
          "IT Consulting & Software",
          "IT Consulting & Software",
          "IT Consulting & Software",
          "IT Consulting & Software",
          "IT Consulting & Software",
          "IT Consulting & Software",
          "Cables - Telecom",
          "Cables - Telecom",
          "IT Enabled Services",
          "IT Enabled Services",
          "IT Training Services",
          "IT Training Services",
          "IT Consulting & Software",
          "IT Consulting & Software",
          "IT Enabled Services",
          "IT Enabled Services",
          "Cables - Telecom",
          "Cables - Telecom",
          "IT Consulting & Software",
          "IT Consulting & Software",
          "IT Consulting & Software",
          "Electronics - Equipment/Components",
          "Electronics - Equipment/Components",
          "IT Networking Equipment",
          "IT Networking Equipment",
          "IT Consulting & Software",
          "IT Consulting & Software",
          "IT Consulting & Software",
          "IT Consulting & Software",
          "IT Consulting & Software",
          "IT Consulting & Software",
          "IT Consulting & Software",
          "Electronics - Equipment/Components",
          "IT Networking Equipment",
          "IT Networking Equipment",
          "IT Consulting & Software",
          "IT Consulting & Software",
          "Electronics - Equipment/Components",
          "Electronics - Equipment/Components",
          "IT Enabled Services",
          "IT Enabled Services",
          "IT Enabled Services",
          "IT Enabled Services",
          "IT Consulting & Software",
          "IT Consulting & Software",
          "IT Consulting & Software",
          "IT Consulting & Software",
          "IT Consulting & Software",
          "Telecom Services",
          "Telecom Services",
          "Telecom Equipment",
          "Telecom Equipment",
          "IT Networking Equipment",
          "IT Consulting & Software",
          "IT Consulting & Software",
          "Telecom Equipment",
          "Telecom Equipment",
          "IT Enabled Services",
          "IT Enabled Services",
          "Electronics - Equipment/Components",
          "Electronics - Equipment/Components",
          "IT Enabled Services",
          "IT Consulting & Software",
          "Telecom Equipment",
          "Telecom Equipment",
          "IT Consulting & Software",
          "Telecom Equipment",
          "Telecom Equipment",
          "IT Consulting & Software",
          "IT Consulting & Software",
          "Telecom Equipment",
          "Telecom Equipment",
          "IT Training Services",
          "IT Training Services",
          "IT Consulting & Software",
          "IT Consulting & Software",
          "IT Consulting & Software",
          "Telecom Services",
          "Telecom Services",
          "IT Consulting & Software",
          "Telecom Equipment",
          "IT Consulting & Software",
          "IT Consulting & Software",
          "Telecom Equipment",
          "IT Consulting & Software",
          "Telecom Services",
          "Telecom Services",
          "IT Consulting & Software",
          "IT Consulting & Software",
          "IT Consulting & Software",
          "IT Consulting & Software",
          "IT Consulting & Software",
          "IT Consulting & Software",
          "IT Consulting & Software",
          "Cables - Telecom",
          "Cables - Telecom",
          "Telecom Services",
          "Telecom Services",
          "IT Networking Equipment",
          "IT Networking Equipment",
          "IT Consulting & Software",
          "IT Consulting & Software",
          "Cables - Telecom",
          "Cables - Telecom",
          "IT Consulting & Software",
          "IT Consulting & Software",
          "IT Consulting & Software"
         ],
         "legendgroup": "TECHNOLOGY",
         "marker": {
          "color": "#FD3216",
          "line": {
           "color": "DarkSlateGrey",
           "width": 1
          },
          "opacity": 0.7,
          "size": 8,
          "symbol": "circle"
         },
         "mode": "markers",
         "name": "TECHNOLOGY",
         "orientation": "v",
         "showlegend": true,
         "type": "scatter",
         "x": [
          0.7296096,
          0.6128867,
          1.9928557,
          0.3513689,
          0.47692245,
          0.10844851,
          -0.21847668,
          -0.12952915,
          0.044933088,
          -0.61496675,
          -0.34153196,
          -0.08523337,
          2.7786582,
          -1.7290398,
          -0.1176384,
          0.01652648,
          0.8700628,
          -0.40438795,
          -1.7063596,
          0.6539153,
          -2.1338549,
          0.58473194,
          0.08334713,
          -0.49018648,
          1.4829122,
          0.23679748,
          0.36698207,
          -2.9716904,
          -1.4919583,
          0.10035315,
          -0.2044329,
          -0.022157392,
          -1.2371331,
          0.085262336,
          0.13036902,
          1.3481381,
          0.22205694,
          0.14004485,
          0.27830932,
          0.20146038,
          0.113851,
          0.13291468,
          0.69847125,
          -0.22630157,
          -0.059494656,
          -0.47890174,
          -0.050565016,
          -0.08365409,
          -0.3167687,
          -0.81182814,
          0.1738908,
          -0.1294627,
          0.10249448,
          2.5996525,
          2.7676382,
          -0.07419384,
          -0.15840334,
          0.35673788,
          1.5067415,
          0.49602976,
          0.3775541,
          1.158509,
          0.1786459,
          0.17123145,
          0.19595066,
          -0.041900314,
          0.17814352,
          1.3034437,
          -0.353291,
          -0.0651754,
          0.06435197,
          0.006421532,
          2.6092417,
          -2.0657604,
          -3.2570477,
          0.2202015,
          0.32862848,
          -0.020437479,
          0.0450231,
          -0.32663664,
          0.16023487,
          -0.085797615,
          0.21516092,
          0.029734595,
          0.093201585,
          0.26522946,
          1.4794946,
          4.419501,
          3.4160945,
          -0.23335037,
          0.023024503,
          0.019275468,
          0.4645306,
          0.8817483,
          0.15829241,
          -1.2003638,
          -0.33482036,
          0.04742142,
          0.3795287,
          0.08116847,
          -0.5539024,
          -0.3841469,
          -0.040591963,
          -0.2190514,
          -0.5844838,
          -0.004763287,
          -0.096264586
         ],
         "xaxis": "x",
         "y": [
          -0.0839954,
          -0.17266507,
          0.6478563,
          0.37212026,
          -0.22456154,
          -0.4198391,
          -0.31714296,
          -0.19084316,
          -0.16599363,
          -0.9758111,
          1.1092184,
          1.3124828,
          -0.41608715,
          -0.40170178,
          -0.19554646,
          -0.26125294,
          0.27815193,
          -0.029068664,
          0.29913878,
          -0.48792893,
          -0.016740082,
          0.028050607,
          -0.07675265,
          -2.925924,
          0.042639803,
          -0.025671758,
          0.22315589,
          -0.12922804,
          -0.02516233,
          0.06877059,
          0.09420864,
          0.11501445,
          -0.4268081,
          -0.074503876,
          -0.3370193,
          -0.070149824,
          -0.25062874,
          -0.062253762,
          0.00795316,
          0.051239632,
          0.025474582,
          -1.0118849,
          1.1944587,
          -0.10008096,
          0.013226861,
          1.355864,
          -0.13039616,
          -0.19117779,
          -3.3591948,
          -0.3145963,
          -2.321006,
          -0.1837522,
          -0.38185456,
          0.25673044,
          0.025881391,
          -0.093196005,
          -0.03121376,
          0.040227924,
          -0.78263295,
          -1.823835,
          -1.9205912,
          -0.28262603,
          0.010834342,
          -0.35525066,
          -0.3162258,
          -0.138327,
          -0.056078136,
          -0.5204129,
          0.08124024,
          0.18293187,
          -1.2881193,
          3.0661025,
          0.028762152,
          -0.65635353,
          0.17963588,
          0.20076302,
          0.13582422,
          -0.0011622008,
          -0.15073769,
          1.7792772,
          -0.1962442,
          -0.0660841,
          0.7148566,
          0.0937934,
          -2.3225389,
          0.6499747,
          0.62224185,
          0.08789566,
          0.006473455,
          0.150801,
          0.166677,
          0.38086748,
          0.5647049,
          0.36218515,
          -0.7855086,
          -0.3085165,
          -0.24980058,
          -0.24353267,
          -0.4128934,
          0.25735536,
          1.3628151,
          -1.8597441,
          -0.26167583,
          -0.19947904,
          0.38405213,
          0.32440117,
          0.037300043
         ],
         "yaxis": "y"
        },
        {
         "customdata": [
          [
           "ABAN.NS",
           "ENERGY",
           "Oil Drilling And Exploration"
          ],
          [
           "AGARIND.BO",
           "ENERGY",
           "Petrochemicals - Others"
          ],
          [
           "ALPHAGEO.BO",
           "ENERGY",
           "Oil Drilling And Exploration"
          ],
          [
           "ALPHAGEO.NS",
           "ENERGY",
           "Oil Drilling And Exploration"
          ],
          [
           "BPCL.BO",
           "ENERGY",
           "Refineries"
          ],
          [
           "BPCL.NS",
           "ENERGY",
           "Refineries"
          ],
          [
           "CASTROLIND.BO",
           "ENERGY",
           "Lubricants"
          ],
          [
           "CASTROLIND.NS",
           "ENERGY",
           "Lubricants"
          ],
          [
           "CHENNPETRO.BO",
           "ENERGY",
           "Refineries"
          ],
          [
           "CHENNPETRO.NS",
           "ENERGY",
           "Refineries"
          ],
          [
           "CONFIPET.BO",
           "ENERGY",
           "LPG/CNG/PNG/LNG Bottling/Distribution"
          ],
          [
           "CORDSCABLE.BO",
           "ENERGY",
           "Cables - Power/Others"
          ],
          [
           "CORDSCABLE.NS",
           "ENERGY",
           "Cables - Power/Others"
          ],
          [
           "DCW.BO",
           "ENERGY",
           "Petrochemicals - Others"
          ],
          [
           "DCW.NS",
           "ENERGY",
           "Petrochemicals - Others"
          ],
          [
           "GAIL.BO",
           "ENERGY",
           "Gas Transmission/Marketing"
          ],
          [
           "GAIL.NS",
           "ENERGY",
           "Gas Transmission/Marketing"
          ],
          [
           "GSPL.BO",
           "ENERGY",
           "Gas Transmission/Marketing"
          ],
          [
           "GSPL.NS",
           "ENERGY",
           "Gas Transmission/Marketing"
          ],
          [
           "GULFPETRO.BO",
           "ENERGY",
           "Lubricants"
          ],
          [
           "GULFPETRO.NS",
           "ENERGY",
           "Lubricants"
          ],
          [
           "HINDOILEXP.BO",
           "ENERGY",
           "Oil Drilling And Exploration"
          ],
          [
           "HINDOILEXP.NS",
           "ENERGY",
           "Oil Drilling And Exploration"
          ],
          [
           "HINDPETRO.BO",
           "ENERGY",
           "Refineries"
          ],
          [
           "HINDPETRO.NS",
           "ENERGY",
           "Refineries"
          ],
          [
           "HONDAPOWER.BO",
           "ENERGY",
           "Electric Equipment - Gensets/Turbines"
          ],
          [
           "HONDAPOWER.NS",
           "ENERGY",
           "Electric Equipment - Gensets/Turbines"
          ],
          [
           "IGL.BO",
           "ENERGY",
           "LPG/CNG/PNG/LNG Bottling/Distribution"
          ],
          [
           "IGL.NS",
           "ENERGY",
           "LPG/CNG/PNG/LNG Bottling/Distribution"
          ],
          [
           "INDNIPPON.BO",
           "ENERGY",
           "Auto Ancl - Electrical"
          ],
          [
           "INDNIPPON.NS",
           "ENERGY",
           "Auto Ancl - Electrical"
          ],
          [
           "IOC.BO",
           "ENERGY",
           "Refineries"
          ],
          [
           "IOC.NS",
           "ENERGY",
           "Refineries"
          ],
          [
           "KEI.BO",
           "ENERGY",
           "Cables - Power/Others"
          ],
          [
           "KEI.NS",
           "ENERGY",
           "Cables - Power/Others"
          ],
          [
           "KIRLOSBROS.BO",
           "ENERGY",
           "Pumps"
          ],
          [
           "KIRLOSBROS.NS",
           "ENERGY",
           "Pumps"
          ],
          [
           "LINDEINDIA.BO",
           "ENERGY",
           "Industrial Gases"
          ],
          [
           "LINDEINDIA.NS",
           "ENERGY",
           "Industrial Gases"
          ],
          [
           "NIPPOBATRY.BO",
           "ENERGY",
           "Dry Cells"
          ],
          [
           "NIPPOBATRY.NS",
           "ENERGY",
           "Dry Cells"
          ],
          [
           "OIL.BO",
           "ENERGY",
           "Oil Drilling And Exploration"
          ],
          [
           "OIL.NS",
           "ENERGY",
           "Oil Drilling And Exploration"
          ],
          [
           "OILCOUNTUB.BO",
           "ENERGY",
           "Oil Equipment & Services"
          ],
          [
           "OILCOUNTUB.NS",
           "ENERGY",
           "Oil Equipment & Services"
          ],
          [
           "ONGC.BO",
           "ENERGY",
           "Oil Drilling And Exploration"
          ],
          [
           "ONGC.NS",
           "ENERGY",
           "Oil Drilling And Exploration"
          ]
         ],
         "hovertemplate": "<b>%{hovertext}</b><br><br>Sector=%{customdata[1]}<br>PC1=%{x}<br>PC2=%{y}<br>ticker=%{customdata[0]}<br>industry=%{customdata[2]}<extra></extra>",
         "hovertext": [
          "Oil Drilling And Exploration",
          "Petrochemicals - Others",
          "Oil Drilling And Exploration",
          "Oil Drilling And Exploration",
          "Refineries",
          "Refineries",
          "Lubricants",
          "Lubricants",
          "Refineries",
          "Refineries",
          "LPG/CNG/PNG/LNG Bottling/Distribution",
          "Cables - Power/Others",
          "Cables - Power/Others",
          "Petrochemicals - Others",
          "Petrochemicals - Others",
          "Gas Transmission/Marketing",
          "Gas Transmission/Marketing",
          "Gas Transmission/Marketing",
          "Gas Transmission/Marketing",
          "Lubricants",
          "Lubricants",
          "Oil Drilling And Exploration",
          "Oil Drilling And Exploration",
          "Refineries",
          "Refineries",
          "Electric Equipment - Gensets/Turbines",
          "Electric Equipment - Gensets/Turbines",
          "LPG/CNG/PNG/LNG Bottling/Distribution",
          "LPG/CNG/PNG/LNG Bottling/Distribution",
          "Auto Ancl - Electrical",
          "Auto Ancl - Electrical",
          "Refineries",
          "Refineries",
          "Cables - Power/Others",
          "Cables - Power/Others",
          "Pumps",
          "Pumps",
          "Industrial Gases",
          "Industrial Gases",
          "Dry Cells",
          "Dry Cells",
          "Oil Drilling And Exploration",
          "Oil Drilling And Exploration",
          "Oil Equipment & Services",
          "Oil Equipment & Services",
          "Oil Drilling And Exploration",
          "Oil Drilling And Exploration"
         ],
         "legendgroup": "ENERGY",
         "marker": {
          "color": "#00FE35",
          "line": {
           "color": "DarkSlateGrey",
           "width": 1
          },
          "opacity": 0.7,
          "size": 8,
          "symbol": "diamond"
         },
         "mode": "markers",
         "name": "ENERGY",
         "orientation": "v",
         "showlegend": true,
         "type": "scatter",
         "x": [
          0.02489796,
          -0.23880772,
          0.054886956,
          0.18800072,
          0.48452893,
          0.3198629,
          0.36893818,
          2.039312,
          -0.3238487,
          0.017048515,
          -0.561423,
          -2.804643,
          -0.93056357,
          2.0800688,
          -2.375661,
          -0.1377921,
          0.04815818,
          -0.24184684,
          -0.10659438,
          0.32590777,
          0.4553377,
          0.24395004,
          0.1641599,
          0.35686564,
          0.8542839,
          -0.0939055,
          0.18888535,
          0.06509535,
          -0.25163448,
          -0.19601354,
          1.0497695,
          0.13106513,
          0.19120066,
          -0.7508652,
          0.875058,
          0.019253159,
          0.038486607,
          0.3627817,
          0.4767254,
          -0.34102863,
          -0.16280314,
          -0.17545635,
          -0.1421184,
          -0.05330217,
          -0.01845806,
          -0.31875154,
          -0.1994692
         ],
         "xaxis": "x",
         "y": [
          -0.22118035,
          0.9770406,
          0.0791907,
          0.11203079,
          -1.3211597,
          2.9992282,
          0.999991,
          0.59268695,
          -0.5568576,
          0.67871046,
          0.018116063,
          -0.05945517,
          0.8140449,
          0.008899786,
          0.1907921,
          0.24337372,
          0.42380217,
          0.40475133,
          0.47167772,
          0.13185817,
          -0.08371797,
          0.13270177,
          -0.071258694,
          -3.3492954,
          1.2804905,
          -0.322436,
          -1.1270351,
          0.016257873,
          -0.05696477,
          -0.15699455,
          -0.6275767,
          0.022977168,
          0.57771397,
          -0.17070906,
          0.3610346,
          0.3968127,
          0.35279137,
          -2.916085,
          1.7747539,
          0.9540075,
          0.20068546,
          0.17664404,
          -0.15739024,
          -0.07866889,
          -0.22799046,
          0.7691497,
          -0.37833163
         ],
         "yaxis": "y"
        },
        {
         "customdata": [
          [
           "ADANIPOWER.BO",
           "PUBLIC UTILITIES",
           "Power - Generation/Distribution"
          ],
          [
           "ADANIPOWER.NS",
           "PUBLIC UTILITIES",
           "Power - Generation/Distribution"
          ],
          [
           "CESC.BO",
           "PUBLIC UTILITIES",
           "Power - Generation/Distribution"
          ],
          [
           "CESC.NS",
           "PUBLIC UTILITIES",
           "Power - Generation/Distribution"
          ],
          [
           "DPSCLTD.NS",
           "PUBLIC UTILITIES",
           "Power - Generation/Distribution"
          ],
          [
           "GEPIL.BO",
           "PUBLIC UTILITIES",
           "Power - Transmission/Equipment"
          ],
          [
           "GEPIL.NS",
           "PUBLIC UTILITIES",
           "Power - Transmission/Equipment"
          ],
          [
           "GIPCL.BO",
           "PUBLIC UTILITIES",
           "Power - Generation/Distribution"
          ],
          [
           "GIPCL.NS",
           "PUBLIC UTILITIES",
           "Power - Generation/Distribution"
          ],
          [
           "GVKPIL.BO",
           "PUBLIC UTILITIES",
           "Power - Generation/Distribution"
          ],
          [
           "GVKPIL.NS",
           "PUBLIC UTILITIES",
           "Power - Generation/Distribution"
          ],
          [
           "INDOTECH.BO",
           "PUBLIC UTILITIES",
           "Power - Transmission/Equipment"
          ],
          [
           "INDOTECH.NS",
           "PUBLIC UTILITIES",
           "Power - Transmission/Equipment"
          ],
          [
           "INDOWIND.NS",
           "PUBLIC UTILITIES",
           "Power - Generation/Distribution"
          ],
          [
           "JYOTISTRUC.BO",
           "PUBLIC UTILITIES",
           "Power - Transmission/Equipment"
          ],
          [
           "JYOTISTRUC.NS",
           "PUBLIC UTILITIES",
           "Power - Transmission/Equipment"
          ],
          [
           "KEC.BO",
           "PUBLIC UTILITIES",
           "Power - Transmission/Equipment"
          ],
          [
           "KEC.NS",
           "PUBLIC UTILITIES",
           "Power - Transmission/Equipment"
          ],
          [
           "NHPC.BO",
           "PUBLIC UTILITIES",
           "Power - Generation/Distribution"
          ],
          [
           "NHPC.NS",
           "PUBLIC UTILITIES",
           "Power - Generation/Distribution"
          ],
          [
           "NLCINDIA.BO",
           "PUBLIC UTILITIES",
           "Power - Generation/Distribution"
          ],
          [
           "NLCINDIA.NS",
           "PUBLIC UTILITIES",
           "Power - Generation/Distribution"
          ],
          [
           "NTL.BO",
           "PUBLIC UTILITIES",
           "Power - Transmission/Equipment"
          ],
          [
           "NTPC.BO",
           "PUBLIC UTILITIES",
           "Power - Generation/Distribution"
          ],
          [
           "NTPC.NS",
           "PUBLIC UTILITIES",
           "Power - Generation/Distribution"
          ],
          [
           "POWERGRID.BO",
           "PUBLIC UTILITIES",
           "Power - Transmission/Equipment"
          ],
          [
           "POWERGRID.NS",
           "PUBLIC UTILITIES",
           "Power - Transmission/Equipment"
          ],
          [
           "TATAPOWER.BO",
           "PUBLIC UTILITIES",
           "Power - Generation/Distribution"
          ],
          [
           "TATAPOWER.NS",
           "PUBLIC UTILITIES",
           "Power - Generation/Distribution"
          ]
         ],
         "hovertemplate": "<b>%{hovertext}</b><br><br>Sector=%{customdata[1]}<br>PC1=%{x}<br>PC2=%{y}<br>ticker=%{customdata[0]}<br>industry=%{customdata[2]}<extra></extra>",
         "hovertext": [
          "Power - Generation/Distribution",
          "Power - Generation/Distribution",
          "Power - Generation/Distribution",
          "Power - Generation/Distribution",
          "Power - Generation/Distribution",
          "Power - Transmission/Equipment",
          "Power - Transmission/Equipment",
          "Power - Generation/Distribution",
          "Power - Generation/Distribution",
          "Power - Generation/Distribution",
          "Power - Generation/Distribution",
          "Power - Transmission/Equipment",
          "Power - Transmission/Equipment",
          "Power - Generation/Distribution",
          "Power - Transmission/Equipment",
          "Power - Transmission/Equipment",
          "Power - Transmission/Equipment",
          "Power - Transmission/Equipment",
          "Power - Generation/Distribution",
          "Power - Generation/Distribution",
          "Power - Generation/Distribution",
          "Power - Generation/Distribution",
          "Power - Transmission/Equipment",
          "Power - Generation/Distribution",
          "Power - Generation/Distribution",
          "Power - Transmission/Equipment",
          "Power - Transmission/Equipment",
          "Power - Generation/Distribution",
          "Power - Generation/Distribution"
         ],
         "legendgroup": "PUBLIC UTILITIES",
         "marker": {
          "color": "#6A76FC",
          "line": {
           "color": "DarkSlateGrey",
           "width": 1
          },
          "opacity": 0.7,
          "size": 8,
          "symbol": "square"
         },
         "mode": "markers",
         "name": "PUBLIC UTILITIES",
         "orientation": "v",
         "showlegend": true,
         "type": "scatter",
         "x": [
          -0.12892371,
          -0.50821567,
          -0.14804827,
          0.08907573,
          -0.41432354,
          0.08843931,
          0.024998214,
          -0.6193345,
          -0.38219067,
          -0.25416553,
          -0.6556131,
          0.38142893,
          0.14226831,
          0.065240055,
          -0.5527841,
          -0.27396724,
          -0.1934411,
          0.10042593,
          0.3397824,
          0.27985302,
          -0.07955715,
          0.15930259,
          0.09381932,
          0.7065527,
          -0.51845753,
          -0.36504155,
          0.66723925,
          0.103257135,
          0.15850542
         ],
         "xaxis": "x",
         "y": [
          -0.26866585,
          -0.44627026,
          -0.25419098,
          -1.2573794,
          -0.5544863,
          0.11044729,
          0.031215368,
          -0.090888776,
          -0.13417749,
          2.6391413,
          -0.21128373,
          -1.5356749,
          -0.52082837,
          -0.20430766,
          -0.517293,
          0.33328557,
          -2.3113735,
          0.74676865,
          0.11784793,
          -0.13014248,
          0.061389316,
          0.1442901,
          0.4994425,
          3.3154747,
          2.486604,
          2.618769,
          -1.6991761,
          0.0887689,
          -0.049404994
         ],
         "yaxis": "y"
        },
        {
         "customdata": [
          [
           "AJMERA.BO",
           "FINANCE",
           "Realty"
          ],
          [
           "AJMERA.NS",
           "FINANCE",
           "Realty"
          ],
          [
           "ALEMBICLTD.BO",
           "FINANCE",
           "Realty"
          ],
          [
           "ALEMBICLTD.NS",
           "FINANCE",
           "Realty"
          ],
          [
           "ALMONDZ.BO",
           "FINANCE",
           "Finance & Investments"
          ],
          [
           "ALMONDZ.NS",
           "FINANCE",
           "Finance & Investments"
          ],
          [
           "AMJLAND.BO",
           "FINANCE",
           "Realty"
          ],
          [
           "AMJLAND.NS",
           "FINANCE",
           "Realty"
          ],
          [
           "ANANTRAJ.BO",
           "FINANCE",
           "Realty"
          ],
          [
           "ANANTRAJ.NS",
           "FINANCE",
           "Realty"
          ],
          [
           "ANSALAPI.BO",
           "FINANCE",
           "Realty"
          ],
          [
           "ANSALAPI.NS",
           "FINANCE",
           "Realty"
          ],
          [
           "ARMANFIN.BO",
           "FINANCE",
           "Non-Banking Financial Company (NBFC)"
          ],
          [
           "ASHIANA.BO",
           "FINANCE",
           "Realty"
          ],
          [
           "AVONMORE.BO",
           "FINANCE",
           "Non-Banking Financial Company (NBFC)"
          ],
          [
           "AXISBANK.BO",
           "FINANCE",
           "Finance - Banks - Private Sector"
          ],
          [
           "AXISBANK.NS",
           "FINANCE",
           "Finance - Banks - Private Sector"
          ],
          [
           "BAJAJFINSV.BO",
           "FINANCE",
           "Holding Company"
          ],
          [
           "BAJAJFINSV.NS",
           "FINANCE",
           "Holding Company"
          ],
          [
           "BAJAJHLDNG.BO",
           "FINANCE",
           "Holding Company"
          ],
          [
           "BAJAJHLDNG.NS",
           "FINANCE",
           "Holding Company"
          ],
          [
           "BAJFINANCE.BO",
           "FINANCE",
           "Non-Banking Financial Company (NBFC)"
          ],
          [
           "BAJFINANCE.NS",
           "FINANCE",
           "Non-Banking Financial Company (NBFC)"
          ],
          [
           "BANKBARODA.BO",
           "FINANCE",
           "Finance - Banks - Public Sector"
          ],
          [
           "BANKBARODA.NS",
           "FINANCE",
           "Finance - Banks - Public Sector"
          ],
          [
           "BANKINDIA.BO",
           "FINANCE",
           "Finance - Banks - Public Sector"
          ],
          [
           "BANKINDIA.NS",
           "FINANCE",
           "Finance - Banks - Public Sector"
          ],
          [
           "BIRLAMONEY.BO",
           "FINANCE",
           "Finance & Investments"
          ],
          [
           "BIRLAMONEY.NS",
           "FINANCE",
           "Finance & Investments"
          ],
          [
           "BLBLIMITED.BO",
           "FINANCE",
           "Finance & Investments"
          ],
          [
           "BLBLIMITED.NS",
           "FINANCE",
           "Finance & Investments"
          ],
          [
           "BLUECHIP.NS",
           "FINANCE",
           "Finance & Investments"
          ],
          [
           "BRIGADE.BO",
           "FINANCE",
           "Realty"
          ],
          [
           "BRIGADE.NS",
           "FINANCE",
           "Realty"
          ],
          [
           "CANBK.BO",
           "FINANCE",
           "Finance - Banks - Public Sector"
          ],
          [
           "CANBK.NS",
           "FINANCE",
           "Finance - Banks - Public Sector"
          ],
          [
           "CANFINHOME.BO",
           "FINANCE",
           "Finance - Housing"
          ],
          [
           "CANFINHOME.NS",
           "FINANCE",
           "Finance - Housing"
          ],
          [
           "CENTRALBK.BO",
           "FINANCE",
           "Finance - Banks - Public Sector"
          ],
          [
           "CENTRALBK.NS",
           "FINANCE",
           "Finance - Banks - Public Sector"
          ],
          [
           "CENTRUM.BO",
           "FINANCE",
           "Finance & Investments"
          ],
          [
           "CGCL.BO",
           "FINANCE",
           "Non-Banking Financial Company (NBFC)"
          ],
          [
           "CHOICEIN.BO",
           "FINANCE",
           "Finance & Investments"
          ],
          [
           "CHOLAFIN.BO",
           "FINANCE",
           "Non-Banking Financial Company (NBFC)"
          ],
          [
           "CHOLAFIN.NS",
           "FINANCE",
           "Non-Banking Financial Company (NBFC)"
          ],
          [
           "CONSOFINVT.NS",
           "FINANCE",
           "Non-Banking Financial Company (NBFC)"
          ],
          [
           "CORALFINAC.BO",
           "FINANCE",
           "Finance - Housing"
          ],
          [
           "COUNCODOS.BO",
           "FINANCE",
           "Realty"
          ],
          [
           "COUNCODOS.NS",
           "FINANCE",
           "Realty"
          ],
          [
           "CREST.BO",
           "FINANCE",
           "Non-Banking Financial Company (NBFC)"
          ],
          [
           "CREST.NS",
           "FINANCE",
           "Non-Banking Financial Company (NBFC)"
          ],
          [
           "CSLFINANCE.BO",
           "FINANCE",
           "Non-Banking Financial Company (NBFC)"
          ],
          [
           "CUB.BO",
           "FINANCE",
           "Finance - Banks - Private Sector"
          ],
          [
           "CUB.NS",
           "FINANCE",
           "Finance - Banks - Private Sector"
          ],
          [
           "DCBBANK.BO",
           "FINANCE",
           "Finance - Banks - Private Sector"
          ],
          [
           "DCBBANK.NS",
           "FINANCE",
           "Finance - Banks - Private Sector"
          ],
          [
           "DCMFINSERV.BO",
           "FINANCE",
           "Finance & Investments"
          ],
          [
           "DCMFINSERV.NS",
           "FINANCE",
           "Finance & Investments"
          ],
          [
           "DHANBANK.BO",
           "FINANCE",
           "Finance - Banks - Private Sector"
          ],
          [
           "DHANBANK.NS",
           "FINANCE",
           "Finance - Banks - Private Sector"
          ],
          [
           "DLF.BO",
           "FINANCE",
           "Realty"
          ],
          [
           "DLF.NS",
           "FINANCE",
           "Realty"
          ],
          [
           "EDELWEISS.BO",
           "FINANCE",
           "Finance & Investments"
          ],
          [
           "EDELWEISS.NS",
           "FINANCE",
           "Finance & Investments"
          ],
          [
           "ELDEHSG.BO",
           "FINANCE",
           "Realty"
          ],
          [
           "FMNL.BO",
           "FINANCE",
           "Realty"
          ],
          [
           "GANESHHOUC.BO",
           "FINANCE",
           "Realty"
          ],
          [
           "GANESHHOUC.NS",
           "FINANCE",
           "Realty"
          ],
          [
           "GEECEE.BO",
           "FINANCE",
           "Realty"
          ],
          [
           "GEECEE.NS",
           "FINANCE",
           "Realty"
          ],
          [
           "GEOJITFSL.BO",
           "FINANCE",
           "Finance & Investments"
          ],
          [
           "GEOJITFSL.NS",
           "FINANCE",
           "Finance & Investments"
          ],
          [
           "GICHSGFIN.BO",
           "FINANCE",
           "Finance - Housing"
          ],
          [
           "GICHSGFIN.NS",
           "FINANCE",
           "Finance - Housing"
          ],
          [
           "GKWLIMITED.NS",
           "FINANCE",
           "Finance & Investments"
          ],
          [
           "GLFL.NS",
           "FINANCE",
           "Finance & Investments"
          ],
          [
           "GOLDENTOBC.BO",
           "FINANCE",
           "Realty"
          ],
          [
           "GOLDENTOBC.NS",
           "FINANCE",
           "Realty"
          ],
          [
           "HDFCBANK.BO",
           "FINANCE",
           "Finance - Banks - Private Sector"
          ],
          [
           "HDFCBANK.NS",
           "FINANCE",
           "Finance - Banks - Private Sector"
          ],
          [
           "HDIL.BO",
           "FINANCE",
           "Realty"
          ],
          [
           "HDIL.NS",
           "FINANCE",
           "Realty"
          ],
          [
           "HUBTOWN.BO",
           "FINANCE",
           "Realty"
          ],
          [
           "IBREALEST.NS",
           "FINANCE",
           "Realty"
          ],
          [
           "ICICIBANK.BO",
           "FINANCE",
           "Finance - Banks - Private Sector"
          ],
          [
           "ICICIBANK.NS",
           "FINANCE",
           "Finance - Banks - Private Sector"
          ],
          [
           "ICRA.NS",
           "FINANCE",
           "Credit Rating Agencies"
          ],
          [
           "IDBI.BO",
           "FINANCE",
           "Finance - Banks - Public Sector"
          ],
          [
           "IDBI.NS",
           "FINANCE",
           "Finance - Banks - Public Sector"
          ],
          [
           "IDFC.BO",
           "FINANCE",
           "Finance & Investments"
          ],
          [
           "IDFC.NS",
           "FINANCE",
           "Finance & Investments"
          ],
          [
           "IFCI.BO",
           "FINANCE",
           "Finance - Term Lending Institutions"
          ],
          [
           "IFCI.NS",
           "FINANCE",
           "Finance - Term Lending Institutions"
          ],
          [
           "IIFL.BO",
           "FINANCE",
           "Non-Banking Financial Company (NBFC)"
          ],
          [
           "IIFL.NS",
           "FINANCE",
           "Non-Banking Financial Company (NBFC)"
          ],
          [
           "IITL.BO",
           "FINANCE",
           "Non-Banking Financial Company (NBFC)"
          ],
          [
           "INDBANK.BO",
           "FINANCE",
           "Finance & Investments"
          ],
          [
           "INDBANK.NS",
           "FINANCE",
           "Finance & Investments"
          ],
          [
           "INDIANB.BO",
           "FINANCE",
           "Finance - Banks - Public Sector"
          ],
          [
           "INDIANB.NS",
           "FINANCE",
           "Finance - Banks - Public Sector"
          ],
          [
           "INDUSINDBK.BO",
           "FINANCE",
           "Finance - Banks - Private Sector"
          ],
          [
           "INDUSINDBK.NS",
           "FINANCE",
           "Finance - Banks - Private Sector"
          ],
          [
           "IOB.BO",
           "FINANCE",
           "Finance - Banks - Public Sector"
          ],
          [
           "IOB.NS",
           "FINANCE",
           "Finance - Banks - Public Sector"
          ],
          [
           "IVC.BO",
           "FINANCE",
           "Finance & Investments"
          ],
          [
           "IVC.NS",
           "FINANCE",
           "Finance & Investments"
          ],
          [
           "KARURVYSYA.BO",
           "FINANCE",
           "Finance - Banks - Private Sector"
          ],
          [
           "KARURVYSYA.NS",
           "FINANCE",
           "Finance - Banks - Private Sector"
          ],
          [
           "KHANDSE.BO",
           "FINANCE",
           "Finance & Investments"
          ],
          [
           "KHANDSE.NS",
           "FINANCE",
           "Finance & Investments"
          ],
          [
           "KICL.BO",
           "FINANCE",
           "Finance & Investments"
          ],
          [
           "KOLTEPATIL.NS",
           "FINANCE",
           "Realty"
          ],
          [
           "KOTAKBANK.BO",
           "FINANCE",
           "Finance - Banks - Private Sector"
          ],
          [
           "KOTAKBANK.NS",
           "FINANCE",
           "Finance - Banks - Private Sector"
          ],
          [
           "KTKBANK.BO",
           "FINANCE",
           "Finance - Banks - Private Sector"
          ],
          [
           "KTKBANK.NS",
           "FINANCE",
           "Finance - Banks - Private Sector"
          ],
          [
           "LANCORHOL.BO",
           "FINANCE",
           "Realty"
          ],
          [
           "LICHSGFIN.BO",
           "FINANCE",
           "Finance - Housing"
          ],
          [
           "LICHSGFIN.NS",
           "FINANCE",
           "Finance - Housing"
          ],
          [
           "LPDC.BO",
           "FINANCE",
           "Realty"
          ],
          [
           "LPDC.NS",
           "FINANCE",
           "Realty"
          ],
          [
           "MAHABANK.BO",
           "FINANCE",
           "Finance - Banks - Public Sector"
          ],
          [
           "MAHABANK.NS",
           "FINANCE",
           "Finance - Banks - Public Sector"
          ],
          [
           "MONARCH.BO",
           "FINANCE",
           "Finance & Investments"
          ],
          [
           "MOTILALOFS.BO",
           "FINANCE",
           "Finance & Investments"
          ],
          [
           "MOTILALOFS.NS",
           "FINANCE",
           "Finance & Investments"
          ],
          [
           "MOTOGENFIN.BO",
           "FINANCE",
           "Finance & Investments"
          ],
          [
           "MOTOGENFIN.NS",
           "FINANCE",
           "Finance & Investments"
          ],
          [
           "NAGREEKCAP.BO",
           "FINANCE",
           "Finance & Investments"
          ],
          [
           "NAGREEKCAP.NS",
           "FINANCE",
           "Finance & Investments"
          ],
          [
           "NAHARCAP.BO",
           "FINANCE",
           "Finance & Investments"
          ],
          [
           "NAHARCAP.NS",
           "FINANCE",
           "Finance & Investments"
          ],
          [
           "NSIL.BO",
           "FINANCE",
           "Finance & Investments"
          ],
          [
           "OMAXE.BO",
           "FINANCE",
           "Realty"
          ],
          [
           "OMAXE.NS",
           "FINANCE",
           "Realty"
          ],
          [
           "PFC.BO",
           "FINANCE",
           "Finance - Term Lending Institutions"
          ],
          [
           "PFC.NS",
           "FINANCE",
           "Finance - Term Lending Institutions"
          ],
          [
           "PNB.BO",
           "FINANCE",
           "Finance - Banks - Public Sector"
          ],
          [
           "PNB.NS",
           "FINANCE",
           "Finance - Banks - Public Sector"
          ],
          [
           "PNBGILTS.BO",
           "FINANCE",
           "Finance & Investments"
          ],
          [
           "PNBGILTS.NS",
           "FINANCE",
           "Finance & Investments"
          ],
          [
           "PRIMESECU.BO",
           "FINANCE",
           "Finance & Investments"
          ],
          [
           "PRIMESECU.NS",
           "FINANCE",
           "Finance & Investments"
          ],
          [
           "PURVA.BO",
           "FINANCE",
           "Realty"
          ],
          [
           "PURVA.NS",
           "FINANCE",
           "Realty"
          ],
          [
           "SMARTLINK.BO",
           "FINANCE",
           "Finance & Investments"
          ],
          [
           "SOBHA.BO",
           "FINANCE",
           "Realty"
          ],
          [
           "TATAINVEST.BO",
           "FINANCE",
           "Finance & Investments"
          ],
          [
           "TATAINVEST.NS",
           "FINANCE",
           "Finance & Investments"
          ],
          [
           "TEXINFRA.BO",
           "FINANCE",
           "Realty"
          ],
          [
           "TEXINFRA.NS",
           "FINANCE",
           "Realty"
          ],
          [
           "VHL.BO",
           "FINANCE",
           "Non-Banking Financial Company (NBFC)"
          ],
          [
           "VHL.NS",
           "FINANCE",
           "Non-Banking Financial Company (NBFC)"
          ]
         ],
         "hovertemplate": "<b>%{hovertext}</b><br><br>Sector=%{customdata[1]}<br>PC1=%{x}<br>PC2=%{y}<br>ticker=%{customdata[0]}<br>industry=%{customdata[2]}<extra></extra>",
         "hovertext": [
          "Realty",
          "Realty",
          "Realty",
          "Realty",
          "Finance & Investments",
          "Finance & Investments",
          "Realty",
          "Realty",
          "Realty",
          "Realty",
          "Realty",
          "Realty",
          "Non-Banking Financial Company (NBFC)",
          "Realty",
          "Non-Banking Financial Company (NBFC)",
          "Finance - Banks - Private Sector",
          "Finance - Banks - Private Sector",
          "Holding Company",
          "Holding Company",
          "Holding Company",
          "Holding Company",
          "Non-Banking Financial Company (NBFC)",
          "Non-Banking Financial Company (NBFC)",
          "Finance - Banks - Public Sector",
          "Finance - Banks - Public Sector",
          "Finance - Banks - Public Sector",
          "Finance - Banks - Public Sector",
          "Finance & Investments",
          "Finance & Investments",
          "Finance & Investments",
          "Finance & Investments",
          "Finance & Investments",
          "Realty",
          "Realty",
          "Finance - Banks - Public Sector",
          "Finance - Banks - Public Sector",
          "Finance - Housing",
          "Finance - Housing",
          "Finance - Banks - Public Sector",
          "Finance - Banks - Public Sector",
          "Finance & Investments",
          "Non-Banking Financial Company (NBFC)",
          "Finance & Investments",
          "Non-Banking Financial Company (NBFC)",
          "Non-Banking Financial Company (NBFC)",
          "Non-Banking Financial Company (NBFC)",
          "Finance - Housing",
          "Realty",
          "Realty",
          "Non-Banking Financial Company (NBFC)",
          "Non-Banking Financial Company (NBFC)",
          "Non-Banking Financial Company (NBFC)",
          "Finance - Banks - Private Sector",
          "Finance - Banks - Private Sector",
          "Finance - Banks - Private Sector",
          "Finance - Banks - Private Sector",
          "Finance & Investments",
          "Finance & Investments",
          "Finance - Banks - Private Sector",
          "Finance - Banks - Private Sector",
          "Realty",
          "Realty",
          "Finance & Investments",
          "Finance & Investments",
          "Realty",
          "Realty",
          "Realty",
          "Realty",
          "Realty",
          "Realty",
          "Finance & Investments",
          "Finance & Investments",
          "Finance - Housing",
          "Finance - Housing",
          "Finance & Investments",
          "Finance & Investments",
          "Realty",
          "Realty",
          "Finance - Banks - Private Sector",
          "Finance - Banks - Private Sector",
          "Realty",
          "Realty",
          "Realty",
          "Realty",
          "Finance - Banks - Private Sector",
          "Finance - Banks - Private Sector",
          "Credit Rating Agencies",
          "Finance - Banks - Public Sector",
          "Finance - Banks - Public Sector",
          "Finance & Investments",
          "Finance & Investments",
          "Finance - Term Lending Institutions",
          "Finance - Term Lending Institutions",
          "Non-Banking Financial Company (NBFC)",
          "Non-Banking Financial Company (NBFC)",
          "Non-Banking Financial Company (NBFC)",
          "Finance & Investments",
          "Finance & Investments",
          "Finance - Banks - Public Sector",
          "Finance - Banks - Public Sector",
          "Finance - Banks - Private Sector",
          "Finance - Banks - Private Sector",
          "Finance - Banks - Public Sector",
          "Finance - Banks - Public Sector",
          "Finance & Investments",
          "Finance & Investments",
          "Finance - Banks - Private Sector",
          "Finance - Banks - Private Sector",
          "Finance & Investments",
          "Finance & Investments",
          "Finance & Investments",
          "Realty",
          "Finance - Banks - Private Sector",
          "Finance - Banks - Private Sector",
          "Finance - Banks - Private Sector",
          "Finance - Banks - Private Sector",
          "Realty",
          "Finance - Housing",
          "Finance - Housing",
          "Realty",
          "Realty",
          "Finance - Banks - Public Sector",
          "Finance - Banks - Public Sector",
          "Finance & Investments",
          "Finance & Investments",
          "Finance & Investments",
          "Finance & Investments",
          "Finance & Investments",
          "Finance & Investments",
          "Finance & Investments",
          "Finance & Investments",
          "Finance & Investments",
          "Finance & Investments",
          "Realty",
          "Realty",
          "Finance - Term Lending Institutions",
          "Finance - Term Lending Institutions",
          "Finance - Banks - Public Sector",
          "Finance - Banks - Public Sector",
          "Finance & Investments",
          "Finance & Investments",
          "Finance & Investments",
          "Finance & Investments",
          "Realty",
          "Realty",
          "Finance & Investments",
          "Realty",
          "Finance & Investments",
          "Finance & Investments",
          "Realty",
          "Realty",
          "Non-Banking Financial Company (NBFC)",
          "Non-Banking Financial Company (NBFC)"
         ],
         "legendgroup": "FINANCE",
         "marker": {
          "color": "#FED4C4",
          "line": {
           "color": "DarkSlateGrey",
           "width": 1
          },
          "opacity": 0.7,
          "size": 8,
          "symbol": "x"
         },
         "mode": "markers",
         "name": "FINANCE",
         "orientation": "v",
         "showlegend": true,
         "type": "scatter",
         "x": [
          -0.10611078,
          -0.19942397,
          -0.21842116,
          -0.411692,
          -2.5513477,
          -0.39001796,
          -0.893797,
          -0.5667197,
          -0.30646133,
          -0.23302047,
          -0.2287496,
          0.027236508,
          -0.07056919,
          0.011026497,
          0.075328685,
          -2.9370382,
          1.4197755,
          -1.0958204,
          -1.0404916,
          0.21124282,
          0.24907467,
          0.26342002,
          0.1966144,
          1.3041579,
          -0.8830946,
          -0.49097395,
          -2.276004,
          -0.072008274,
          -0.25914285,
          0.5182054,
          1.258992,
          0.09133173,
          -0.55136067,
          -2.2686167,
          0.34108493,
          1.4859023,
          -0.15424888,
          0.11869041,
          0.032191113,
          -0.09392787,
          0.11231807,
          0.035925828,
          2.2194393,
          0.18253163,
          -0.029137565,
          -0.011210876,
          -0.7179214,
          -0.4244159,
          0.9160426,
          0.342986,
          0.18734853,
          0.19552994,
          -0.11302795,
          -0.121584475,
          0.056317456,
          -0.1427953,
          -0.15126266,
          0.20277224,
          -0.17374319,
          0.016211582,
          -2.0890512,
          -1.674375,
          0.14593792,
          -0.34800422,
          0.098446205,
          -0.018346984,
          -0.63809466,
          -0.279998,
          0.10421192,
          -0.09490577,
          -0.090359524,
          -0.8543068,
          0.045108788,
          -0.15691821,
          -0.04879411,
          0.24869324,
          0.04578582,
          0.17023142,
          0.2856513,
          0.3805757,
          -0.056980837,
          -0.11124973,
          0.29748377,
          -0.16857076,
          0.0012056953,
          0.024339855,
          -0.16875337,
          -0.90476185,
          -1.1293018,
          -0.20025618,
          -0.12123906,
          0.0966644,
          0.05563608,
          -0.074610695,
          -0.24096859,
          -0.1106184,
          -0.10116757,
          0.13522567,
          1.1157769,
          1.5822773,
          0.26579505,
          0.5896891,
          1.4535096,
          -1.094753,
          -0.051357105,
          -0.879577,
          -0.06113395,
          -0.09695632,
          -0.0103161475,
          0.04700382,
          -1.1169084,
          -0.38717848,
          0.054403286,
          0.09323674,
          0.1187531,
          1.0966429,
          -0.062074754,
          -0.13795626,
          -0.2135266,
          -0.027190981,
          0.35677153,
          2.0197065,
          1.0296499,
          0.38826594,
          0.3550202,
          -2.5843968,
          0.21304505,
          0.6125955,
          1.0773903,
          0.42457682,
          0.396117,
          0.19076864,
          0.0950872,
          0.09831956,
          -0.0918404,
          0.38788268,
          0.6923385,
          -2.023263,
          -1.161273,
          1.1461592,
          -1.5003965,
          -0.057947196,
          0.0018545277,
          -2.2885942,
          -1.0119088,
          -0.639427,
          1.3741056,
          -0.018845242,
          0.06883774,
          -0.3899195,
          0.46673256,
          1.2842396,
          -0.85027695
         ],
         "xaxis": "x",
         "y": [
          -0.41713142,
          -0.4071787,
          -1.1256115,
          -0.029262345,
          -0.3423414,
          -0.14004263,
          -0.2922546,
          0.015012356,
          -0.10278503,
          -0.151663,
          0.2270377,
          1.4091665,
          0.008272642,
          -0.20720115,
          -0.25556087,
          0.57210845,
          0.09958233,
          -0.20846029,
          0.028854957,
          0.0066028596,
          0.22673194,
          0.36108726,
          0.35564342,
          0.09069447,
          -0.6420065,
          0.2040517,
          -0.33130148,
          -0.14286664,
          -0.09437861,
          -0.03185407,
          0.9123295,
          -0.06184734,
          0.06000282,
          0.05887479,
          0.028462788,
          0.594403,
          0.35076985,
          0.30912662,
          0.06135422,
          0.22070774,
          -0.061064333,
          -0.04604363,
          0.19235444,
          0.03556228,
          0.09584107,
          -0.6903514,
          -0.011777896,
          1.9160839,
          -0.19903968,
          0.5588809,
          1.1593885,
          -0.7046555,
          -0.058550946,
          -0.24740885,
          -0.034394424,
          -0.14623114,
          -0.23256107,
          -0.11131729,
          -0.47029427,
          -0.4614014,
          0.33822617,
          0.15616584,
          1.8390397,
          0.7635206,
          -0.14134765,
          -0.26659927,
          -1.925016,
          -1.8454546,
          -0.17494485,
          0.08684581,
          -1.5800121,
          0.8047044,
          -1.8157628,
          3.4432895,
          -0.038875725,
          -0.07915907,
          0.113649786,
          -0.011298094,
          0.6374898,
          0.5711132,
          -0.31291702,
          -0.20946312,
          -0.3966102,
          0.42686555,
          0.30499053,
          0.17910641,
          -0.3284928,
          -0.08707974,
          0.08985456,
          -0.05707469,
          0.031536035,
          -0.09839381,
          -0.16843902,
          -0.28236923,
          -0.20345157,
          0.15015809,
          0.42698106,
          0.05857768,
          0.5938493,
          0.19058853,
          0.10792514,
          -2.0754018,
          0.3248811,
          0.19136606,
          -1.0499549,
          -1.3230532,
          -0.17836101,
          -0.37457415,
          -0.047500573,
          0.26463294,
          0.12665588,
          0.97255445,
          0.29122972,
          0.24717201,
          0.3761839,
          0.2710721,
          -0.25368097,
          -3.8843596,
          -1.7400784,
          -0.1355115,
          -1.2579648,
          -0.51584023,
          0.89348966,
          -0.16712987,
          0.09361562,
          -0.7274742,
          0.09858777,
          0.7709874,
          0.041288912,
          -0.015853053,
          0.41500828,
          0.080164425,
          0.2338515,
          0.481856,
          0.64171594,
          -0.6684967,
          0.5544073,
          -0.5307294,
          0.15060094,
          -0.6516394,
          -0.5051482,
          1.546265,
          -0.20422447,
          -0.10863534,
          -0.83455664,
          0.35262066,
          0.033957746,
          -0.181843,
          -0.084609404,
          2.606615,
          -1.8728287,
          -0.57919616,
          0.2336422
         ],
         "yaxis": "y"
        }
       ],
       "layout": {
        "height": 550,
        "legend": {
         "orientation": "h",
         "title": {
          "text": "Sector"
         },
         "tracegroupgap": 0,
         "x": 1,
         "xanchor": "right",
         "y": 1.02,
         "yanchor": "bottom"
        },
        "margin": {
         "t": 60
        },
        "template": {
         "data": {
          "bar": [
           {
            "error_x": {
             "color": "#2a3f5f"
            },
            "error_y": {
             "color": "#2a3f5f"
            },
            "marker": {
             "line": {
              "color": "white",
              "width": 0.5
             },
             "pattern": {
              "fillmode": "overlay",
              "size": 10,
              "solidity": 0.2
             }
            },
            "type": "bar"
           }
          ],
          "barpolar": [
           {
            "marker": {
             "line": {
              "color": "white",
              "width": 0.5
             },
             "pattern": {
              "fillmode": "overlay",
              "size": 10,
              "solidity": 0.2
             }
            },
            "type": "barpolar"
           }
          ],
          "carpet": [
           {
            "aaxis": {
             "endlinecolor": "#2a3f5f",
             "gridcolor": "#C8D4E3",
             "linecolor": "#C8D4E3",
             "minorgridcolor": "#C8D4E3",
             "startlinecolor": "#2a3f5f"
            },
            "baxis": {
             "endlinecolor": "#2a3f5f",
             "gridcolor": "#C8D4E3",
             "linecolor": "#C8D4E3",
             "minorgridcolor": "#C8D4E3",
             "startlinecolor": "#2a3f5f"
            },
            "type": "carpet"
           }
          ],
          "choropleth": [
           {
            "colorbar": {
             "outlinewidth": 0,
             "ticks": ""
            },
            "type": "choropleth"
           }
          ],
          "contour": [
           {
            "colorbar": {
             "outlinewidth": 0,
             "ticks": ""
            },
            "colorscale": [
             [
              0,
              "#0d0887"
             ],
             [
              0.1111111111111111,
              "#46039f"
             ],
             [
              0.2222222222222222,
              "#7201a8"
             ],
             [
              0.3333333333333333,
              "#9c179e"
             ],
             [
              0.4444444444444444,
              "#bd3786"
             ],
             [
              0.5555555555555556,
              "#d8576b"
             ],
             [
              0.6666666666666666,
              "#ed7953"
             ],
             [
              0.7777777777777778,
              "#fb9f3a"
             ],
             [
              0.8888888888888888,
              "#fdca26"
             ],
             [
              1,
              "#f0f921"
             ]
            ],
            "type": "contour"
           }
          ],
          "contourcarpet": [
           {
            "colorbar": {
             "outlinewidth": 0,
             "ticks": ""
            },
            "type": "contourcarpet"
           }
          ],
          "heatmap": [
           {
            "colorbar": {
             "outlinewidth": 0,
             "ticks": ""
            },
            "colorscale": [
             [
              0,
              "#0d0887"
             ],
             [
              0.1111111111111111,
              "#46039f"
             ],
             [
              0.2222222222222222,
              "#7201a8"
             ],
             [
              0.3333333333333333,
              "#9c179e"
             ],
             [
              0.4444444444444444,
              "#bd3786"
             ],
             [
              0.5555555555555556,
              "#d8576b"
             ],
             [
              0.6666666666666666,
              "#ed7953"
             ],
             [
              0.7777777777777778,
              "#fb9f3a"
             ],
             [
              0.8888888888888888,
              "#fdca26"
             ],
             [
              1,
              "#f0f921"
             ]
            ],
            "type": "heatmap"
           }
          ],
          "heatmapgl": [
           {
            "colorbar": {
             "outlinewidth": 0,
             "ticks": ""
            },
            "colorscale": [
             [
              0,
              "#0d0887"
             ],
             [
              0.1111111111111111,
              "#46039f"
             ],
             [
              0.2222222222222222,
              "#7201a8"
             ],
             [
              0.3333333333333333,
              "#9c179e"
             ],
             [
              0.4444444444444444,
              "#bd3786"
             ],
             [
              0.5555555555555556,
              "#d8576b"
             ],
             [
              0.6666666666666666,
              "#ed7953"
             ],
             [
              0.7777777777777778,
              "#fb9f3a"
             ],
             [
              0.8888888888888888,
              "#fdca26"
             ],
             [
              1,
              "#f0f921"
             ]
            ],
            "type": "heatmapgl"
           }
          ],
          "histogram": [
           {
            "marker": {
             "pattern": {
              "fillmode": "overlay",
              "size": 10,
              "solidity": 0.2
             }
            },
            "type": "histogram"
           }
          ],
          "histogram2d": [
           {
            "colorbar": {
             "outlinewidth": 0,
             "ticks": ""
            },
            "colorscale": [
             [
              0,
              "#0d0887"
             ],
             [
              0.1111111111111111,
              "#46039f"
             ],
             [
              0.2222222222222222,
              "#7201a8"
             ],
             [
              0.3333333333333333,
              "#9c179e"
             ],
             [
              0.4444444444444444,
              "#bd3786"
             ],
             [
              0.5555555555555556,
              "#d8576b"
             ],
             [
              0.6666666666666666,
              "#ed7953"
             ],
             [
              0.7777777777777778,
              "#fb9f3a"
             ],
             [
              0.8888888888888888,
              "#fdca26"
             ],
             [
              1,
              "#f0f921"
             ]
            ],
            "type": "histogram2d"
           }
          ],
          "histogram2dcontour": [
           {
            "colorbar": {
             "outlinewidth": 0,
             "ticks": ""
            },
            "colorscale": [
             [
              0,
              "#0d0887"
             ],
             [
              0.1111111111111111,
              "#46039f"
             ],
             [
              0.2222222222222222,
              "#7201a8"
             ],
             [
              0.3333333333333333,
              "#9c179e"
             ],
             [
              0.4444444444444444,
              "#bd3786"
             ],
             [
              0.5555555555555556,
              "#d8576b"
             ],
             [
              0.6666666666666666,
              "#ed7953"
             ],
             [
              0.7777777777777778,
              "#fb9f3a"
             ],
             [
              0.8888888888888888,
              "#fdca26"
             ],
             [
              1,
              "#f0f921"
             ]
            ],
            "type": "histogram2dcontour"
           }
          ],
          "mesh3d": [
           {
            "colorbar": {
             "outlinewidth": 0,
             "ticks": ""
            },
            "type": "mesh3d"
           }
          ],
          "parcoords": [
           {
            "line": {
             "colorbar": {
              "outlinewidth": 0,
              "ticks": ""
             }
            },
            "type": "parcoords"
           }
          ],
          "pie": [
           {
            "automargin": true,
            "type": "pie"
           }
          ],
          "scatter": [
           {
            "fillpattern": {
             "fillmode": "overlay",
             "size": 10,
             "solidity": 0.2
            },
            "type": "scatter"
           }
          ],
          "scatter3d": [
           {
            "line": {
             "colorbar": {
              "outlinewidth": 0,
              "ticks": ""
             }
            },
            "marker": {
             "colorbar": {
              "outlinewidth": 0,
              "ticks": ""
             }
            },
            "type": "scatter3d"
           }
          ],
          "scattercarpet": [
           {
            "marker": {
             "colorbar": {
              "outlinewidth": 0,
              "ticks": ""
             }
            },
            "type": "scattercarpet"
           }
          ],
          "scattergeo": [
           {
            "marker": {
             "colorbar": {
              "outlinewidth": 0,
              "ticks": ""
             }
            },
            "type": "scattergeo"
           }
          ],
          "scattergl": [
           {
            "marker": {
             "colorbar": {
              "outlinewidth": 0,
              "ticks": ""
             }
            },
            "type": "scattergl"
           }
          ],
          "scattermapbox": [
           {
            "marker": {
             "colorbar": {
              "outlinewidth": 0,
              "ticks": ""
             }
            },
            "type": "scattermapbox"
           }
          ],
          "scatterpolar": [
           {
            "marker": {
             "colorbar": {
              "outlinewidth": 0,
              "ticks": ""
             }
            },
            "type": "scatterpolar"
           }
          ],
          "scatterpolargl": [
           {
            "marker": {
             "colorbar": {
              "outlinewidth": 0,
              "ticks": ""
             }
            },
            "type": "scatterpolargl"
           }
          ],
          "scatterternary": [
           {
            "marker": {
             "colorbar": {
              "outlinewidth": 0,
              "ticks": ""
             }
            },
            "type": "scatterternary"
           }
          ],
          "surface": [
           {
            "colorbar": {
             "outlinewidth": 0,
             "ticks": ""
            },
            "colorscale": [
             [
              0,
              "#0d0887"
             ],
             [
              0.1111111111111111,
              "#46039f"
             ],
             [
              0.2222222222222222,
              "#7201a8"
             ],
             [
              0.3333333333333333,
              "#9c179e"
             ],
             [
              0.4444444444444444,
              "#bd3786"
             ],
             [
              0.5555555555555556,
              "#d8576b"
             ],
             [
              0.6666666666666666,
              "#ed7953"
             ],
             [
              0.7777777777777778,
              "#fb9f3a"
             ],
             [
              0.8888888888888888,
              "#fdca26"
             ],
             [
              1,
              "#f0f921"
             ]
            ],
            "type": "surface"
           }
          ],
          "table": [
           {
            "cells": {
             "fill": {
              "color": "#EBF0F8"
             },
             "line": {
              "color": "white"
             }
            },
            "header": {
             "fill": {
              "color": "#C8D4E3"
             },
             "line": {
              "color": "white"
             }
            },
            "type": "table"
           }
          ]
         },
         "layout": {
          "annotationdefaults": {
           "arrowcolor": "#2a3f5f",
           "arrowhead": 0,
           "arrowwidth": 1
          },
          "autotypenumbers": "strict",
          "coloraxis": {
           "colorbar": {
            "outlinewidth": 0,
            "ticks": ""
           }
          },
          "colorscale": {
           "diverging": [
            [
             0,
             "#8e0152"
            ],
            [
             0.1,
             "#c51b7d"
            ],
            [
             0.2,
             "#de77ae"
            ],
            [
             0.3,
             "#f1b6da"
            ],
            [
             0.4,
             "#fde0ef"
            ],
            [
             0.5,
             "#f7f7f7"
            ],
            [
             0.6,
             "#e6f5d0"
            ],
            [
             0.7,
             "#b8e186"
            ],
            [
             0.8,
             "#7fbc41"
            ],
            [
             0.9,
             "#4d9221"
            ],
            [
             1,
             "#276419"
            ]
           ],
           "sequential": [
            [
             0,
             "#0d0887"
            ],
            [
             0.1111111111111111,
             "#46039f"
            ],
            [
             0.2222222222222222,
             "#7201a8"
            ],
            [
             0.3333333333333333,
             "#9c179e"
            ],
            [
             0.4444444444444444,
             "#bd3786"
            ],
            [
             0.5555555555555556,
             "#d8576b"
            ],
            [
             0.6666666666666666,
             "#ed7953"
            ],
            [
             0.7777777777777778,
             "#fb9f3a"
            ],
            [
             0.8888888888888888,
             "#fdca26"
            ],
            [
             1,
             "#f0f921"
            ]
           ],
           "sequentialminus": [
            [
             0,
             "#0d0887"
            ],
            [
             0.1111111111111111,
             "#46039f"
            ],
            [
             0.2222222222222222,
             "#7201a8"
            ],
            [
             0.3333333333333333,
             "#9c179e"
            ],
            [
             0.4444444444444444,
             "#bd3786"
            ],
            [
             0.5555555555555556,
             "#d8576b"
            ],
            [
             0.6666666666666666,
             "#ed7953"
            ],
            [
             0.7777777777777778,
             "#fb9f3a"
            ],
            [
             0.8888888888888888,
             "#fdca26"
            ],
            [
             1,
             "#f0f921"
            ]
           ]
          },
          "colorway": [
           "#636efa",
           "#EF553B",
           "#00cc96",
           "#ab63fa",
           "#FFA15A",
           "#19d3f3",
           "#FF6692",
           "#B6E880",
           "#FF97FF",
           "#FECB52"
          ],
          "font": {
           "color": "#2a3f5f"
          },
          "geo": {
           "bgcolor": "white",
           "lakecolor": "white",
           "landcolor": "white",
           "showlakes": true,
           "showland": true,
           "subunitcolor": "#C8D4E3"
          },
          "hoverlabel": {
           "align": "left"
          },
          "hovermode": "closest",
          "mapbox": {
           "style": "light"
          },
          "paper_bgcolor": "white",
          "plot_bgcolor": "white",
          "polar": {
           "angularaxis": {
            "gridcolor": "#EBF0F8",
            "linecolor": "#EBF0F8",
            "ticks": ""
           },
           "bgcolor": "white",
           "radialaxis": {
            "gridcolor": "#EBF0F8",
            "linecolor": "#EBF0F8",
            "ticks": ""
           }
          },
          "scene": {
           "xaxis": {
            "backgroundcolor": "white",
            "gridcolor": "#DFE8F3",
            "gridwidth": 2,
            "linecolor": "#EBF0F8",
            "showbackground": true,
            "ticks": "",
            "zerolinecolor": "#EBF0F8"
           },
           "yaxis": {
            "backgroundcolor": "white",
            "gridcolor": "#DFE8F3",
            "gridwidth": 2,
            "linecolor": "#EBF0F8",
            "showbackground": true,
            "ticks": "",
            "zerolinecolor": "#EBF0F8"
           },
           "zaxis": {
            "backgroundcolor": "white",
            "gridcolor": "#DFE8F3",
            "gridwidth": 2,
            "linecolor": "#EBF0F8",
            "showbackground": true,
            "ticks": "",
            "zerolinecolor": "#EBF0F8"
           }
          },
          "shapedefaults": {
           "line": {
            "color": "#2a3f5f"
           }
          },
          "ternary": {
           "aaxis": {
            "gridcolor": "#DFE8F3",
            "linecolor": "#A2B1C6",
            "ticks": ""
           },
           "baxis": {
            "gridcolor": "#DFE8F3",
            "linecolor": "#A2B1C6",
            "ticks": ""
           },
           "bgcolor": "white",
           "caxis": {
            "gridcolor": "#DFE8F3",
            "linecolor": "#A2B1C6",
            "ticks": ""
           }
          },
          "title": {
           "x": 0.05
          },
          "xaxis": {
           "automargin": true,
           "gridcolor": "#EBF0F8",
           "linecolor": "#EBF0F8",
           "ticks": "",
           "title": {
            "standoff": 15
           },
           "zerolinecolor": "#EBF0F8",
           "zerolinewidth": 2
          },
          "yaxis": {
           "automargin": true,
           "gridcolor": "#EBF0F8",
           "linecolor": "#EBF0F8",
           "ticks": "",
           "title": {
            "standoff": 15
           },
           "zerolinecolor": "#EBF0F8",
           "zerolinewidth": 2
          }
         }
        },
        "width": 650,
        "xaxis": {
         "anchor": "y",
         "domain": [
          0,
          1
         ],
         "title": {
          "text": "PC1"
         }
        },
        "yaxis": {
         "anchor": "x",
         "domain": [
          0,
          1
         ],
         "title": {
          "text": "PC2"
         }
        }
       }
      }
     },
     "metadata": {},
     "output_type": "display_data"
    }
   ],
   "source": [
    "from utils.visualize import visualize_embeddings\n",
    "\n",
    "visualize_embeddings(\n",
    "    embedding_matrix=model.embeddings.weight.detach().cpu().numpy(),\n",
    "    tickers=data.tickers,\n",
    "    industries=data.industries,\n",
    "    sectors=data.sectors,\n",
    "    names=data.tickers,\n",
    "    dimensions=2,\n",
    "    reduced=True,\n",
    "    method=\"PCA\",\n",
    "    return_df=False,\n",
    "    rand_state=None,\n",
    ")"
   ]
  },
  {
   "cell_type": "code",
   "execution_count": 25,
   "metadata": {},
   "outputs": [],
   "source": [
    "embeddings_npy = model.embeddings.weight.detach().numpy()\n",
    "\n",
    "embeddings_dict = {}\n",
    "\n",
    "for idx, stock_name in enumerate(data.daily_returns_df.columns):\n",
    "    embeddings_dict[stock_name] = embeddings_npy[idx]"
   ]
  },
  {
   "cell_type": "code",
   "execution_count": 26,
   "metadata": {},
   "outputs": [],
   "source": [
    "from sklearn.metrics.pairwise import cosine_similarity\n",
    "\n",
    "def find_k_closest(ticker: str, k: int = 3):\n",
    "    if ticker not in embeddings_dict.keys():\n",
    "        raise ValueError(f\"Stock name '{ticker}' not found in the list of stock names.\")\n",
    "    \n",
    "    stock_index = list(embeddings_dict.keys()).index(ticker)\n",
    "\n",
    "    similarity_matrix = cosine_similarity(list(embeddings_dict.values()))\n",
    "\n",
    "    similarity_scores = similarity_matrix[stock_index]\n",
    "\n",
    "    similar_indices = np.argsort(-similarity_scores)[1:k+1]\n",
    "\n",
    "    similar_stocks = [(list(embeddings_dict.keys())[i], similarity_scores[i]) for i in similar_indices]\n",
    "    \n",
    "    return similar_stocks"
   ]
  },
  {
   "cell_type": "code",
   "execution_count": 34,
   "metadata": {},
   "outputs": [
    {
     "data": {
      "text/plain": [
       "[('HDFCBANK.BO', 0.9760017),\n",
       " ('KOTAKBANK.NS', 0.3040996),\n",
       " ('KOTAKBANK.BO', 0.29088178)]"
      ]
     },
     "execution_count": 34,
     "metadata": {},
     "output_type": "execute_result"
    }
   ],
   "source": [
    "find_k_closest(\"HDFCBANK.NS\")"
   ]
  },
  {
   "cell_type": "code",
   "execution_count": null,
   "metadata": {},
   "outputs": [],
   "source": []
  }
 ],
 "metadata": {
  "kernelspec": {
   "display_name": "speaker_verification",
   "language": "python",
   "name": "python3"
  },
  "language_info": {
   "codemirror_mode": {
    "name": "ipython",
    "version": 3
   },
   "file_extension": ".py",
   "mimetype": "text/x-python",
   "name": "python",
   "nbconvert_exporter": "python",
   "pygments_lexer": "ipython3",
   "version": "3.9.19"
  }
 },
 "nbformat": 4,
 "nbformat_minor": 2
}
