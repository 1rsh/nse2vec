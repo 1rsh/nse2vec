{
 "cells": [
  {
   "cell_type": "code",
   "execution_count": 2,
   "metadata": {},
   "outputs": [],
   "source": [
    "from selenium import webdriver\n",
    "from webdriver_manager.chrome import ChromeDriverManager\n",
    "\n",
    "driver = webdriver.Chrome()"
   ]
  },
  {
   "cell_type": "code",
   "execution_count": 37,
   "metadata": {},
   "outputs": [],
   "source": [
    "BASE_URL = \"https://www.etmoney.com/stocks/list-of-stocks\"\n",
    "\n",
    "driver.get(BASE_URL)"
   ]
  },
  {
   "cell_type": "code",
   "execution_count": 38,
   "metadata": {},
   "outputs": [],
   "source": [
    "from selenium.webdriver.common.by import By\n",
    "\n",
    "can_load_more = True\n",
    "\n",
    "while can_load_more:\n",
    "    try:\n",
    "        driver.find_element(By.CLASS_NAME, \"load-more\").click()\n",
    "    except:\n",
    "        can_load_more = False"
   ]
  },
  {
   "cell_type": "code",
   "execution_count": 39,
   "metadata": {},
   "outputs": [],
   "source": [
    "rows = driver.find_elements(By.CSS_SELECTOR, \".table-striped > tbody > tr\")"
   ]
  },
  {
   "cell_type": "code",
   "execution_count": 40,
   "metadata": {},
   "outputs": [],
   "source": [
    "extracts = {\"symbol\": [], \"industry\": []}\n",
    "for row in rows:\n",
    "    extracts[\"symbol\"].append(row.find_element(By.CSS_SELECTOR, \"strong.fund-category\").text)\n",
    "    extracts[\"industry\"].append(row.find_elements(By.CSS_SELECTOR, \"span.align-td\")[-1].text)"
   ]
  },
  {
   "cell_type": "code",
   "execution_count": 41,
   "metadata": {},
   "outputs": [
    {
     "data": {
      "text/html": [
       "<div>\n",
       "<style scoped>\n",
       "    .dataframe tbody tr th:only-of-type {\n",
       "        vertical-align: middle;\n",
       "    }\n",
       "\n",
       "    .dataframe tbody tr th {\n",
       "        vertical-align: top;\n",
       "    }\n",
       "\n",
       "    .dataframe thead th {\n",
       "        text-align: right;\n",
       "    }\n",
       "</style>\n",
       "<table border=\"1\" class=\"dataframe\">\n",
       "  <thead>\n",
       "    <tr style=\"text-align: right;\">\n",
       "      <th></th>\n",
       "      <th>symbol</th>\n",
       "      <th>industry</th>\n",
       "    </tr>\n",
       "  </thead>\n",
       "  <tbody>\n",
       "    <tr>\n",
       "      <th>0</th>\n",
       "      <td>20MICRONS</td>\n",
       "      <td>Mining/Minerals</td>\n",
       "    </tr>\n",
       "    <tr>\n",
       "      <th>1</th>\n",
       "      <td>360ONE</td>\n",
       "      <td>Finance &amp; Investments</td>\n",
       "    </tr>\n",
       "    <tr>\n",
       "      <th>2</th>\n",
       "      <td>3MINDIA</td>\n",
       "      <td>Diversified</td>\n",
       "    </tr>\n",
       "    <tr>\n",
       "      <th>3</th>\n",
       "      <td>3PLAND</td>\n",
       "      <td>Finance &amp; Investments</td>\n",
       "    </tr>\n",
       "    <tr>\n",
       "      <th>4</th>\n",
       "      <td>3IINFOLTD</td>\n",
       "      <td>IT Consulting &amp; Software</td>\n",
       "    </tr>\n",
       "    <tr>\n",
       "      <th>...</th>\n",
       "      <td>...</td>\n",
       "      <td>...</td>\n",
       "    </tr>\n",
       "    <tr>\n",
       "      <th>2021</th>\n",
       "      <td>ZYDUSLIFE</td>\n",
       "      <td>Pharmaceuticals</td>\n",
       "    </tr>\n",
       "    <tr>\n",
       "      <th>2022</th>\n",
       "      <td>ZYDUSWELL</td>\n",
       "      <td>Pharmaceuticals</td>\n",
       "    </tr>\n",
       "    <tr>\n",
       "      <th>2023</th>\n",
       "      <td>ECLERX</td>\n",
       "      <td>IT Enabled Services</td>\n",
       "    </tr>\n",
       "    <tr>\n",
       "      <th>2024</th>\n",
       "      <td>EMUDHRA</td>\n",
       "      <td>IT Enabled Services</td>\n",
       "    </tr>\n",
       "    <tr>\n",
       "      <th>2025</th>\n",
       "      <td>IDEAFORGE</td>\n",
       "      <td>Aerospace &amp; Defense</td>\n",
       "    </tr>\n",
       "  </tbody>\n",
       "</table>\n",
       "<p>2026 rows × 2 columns</p>\n",
       "</div>"
      ],
      "text/plain": [
       "         symbol                  industry\n",
       "0     20MICRONS           Mining/Minerals\n",
       "1        360ONE     Finance & Investments\n",
       "2       3MINDIA               Diversified\n",
       "3        3PLAND     Finance & Investments\n",
       "4     3IINFOLTD  IT Consulting & Software\n",
       "...         ...                       ...\n",
       "2021  ZYDUSLIFE           Pharmaceuticals\n",
       "2022  ZYDUSWELL           Pharmaceuticals\n",
       "2023     ECLERX       IT Enabled Services\n",
       "2024    EMUDHRA       IT Enabled Services\n",
       "2025  IDEAFORGE       Aerospace & Defense\n",
       "\n",
       "[2026 rows x 2 columns]"
      ]
     },
     "execution_count": 41,
     "metadata": {},
     "output_type": "execute_result"
    }
   ],
   "source": [
    "import pandas as pd\n",
    "\n",
    "extracts = pd.DataFrame(extracts)\n",
    "extracts"
   ]
  },
  {
   "cell_type": "code",
   "execution_count": 42,
   "metadata": {},
   "outputs": [],
   "source": [
    "extracts.to_csv(\"industry-data.csv\")"
   ]
  },
  {
   "cell_type": "code",
   "execution_count": 45,
   "metadata": {},
   "outputs": [
    {
     "name": "stdout",
     "output_type": "stream",
     "text": [
      "184 unique industries found!\n"
     ]
    }
   ],
   "source": [
    "print(f\"{extracts['industry'].nunique()} unique industries found!\")"
   ]
  },
  {
   "cell_type": "code",
   "execution_count": 1,
   "metadata": {},
   "outputs": [
    {
     "name": "stderr",
     "output_type": "stream",
     "text": [
      "/var/folders/yp/xb6n276n70d6fknkfdpwl0mm0000gn/T/ipykernel_41077/128720189.py:3: DtypeWarning: Columns (10,11) have mixed types. Specify dtype option on import or set low_memory=False.\n",
      "  inds=pd.read_csv(\"stocks-with-industry.csv\")\n"
     ]
    }
   ],
   "source": [
    "import pandas as pd\n",
    "\n",
    "inds=pd.read_csv(\"stocks-with-industry.csv\")"
   ]
  },
  {
   "cell_type": "code",
   "execution_count": 16,
   "metadata": {},
   "outputs": [],
   "source": [
    "inds.drop(columns=[\"Unnamed: 0\", \"Unnamed: 0.1\"]).dropna().set_index(\"Date\").to_csv(\"stocks-with-industry.csv\")"
   ]
  },
  {
   "cell_type": "code",
   "execution_count": null,
   "metadata": {},
   "outputs": [],
   "source": []
  }
 ],
 "metadata": {
  "kernelspec": {
   "display_name": "speaker_verification",
   "language": "python",
   "name": "python3"
  },
  "language_info": {
   "codemirror_mode": {
    "name": "ipython",
    "version": 3
   },
   "file_extension": ".py",
   "mimetype": "text/x-python",
   "name": "python",
   "nbconvert_exporter": "python",
   "pygments_lexer": "ipython3",
   "version": "3.9.19"
  }
 },
 "nbformat": 4,
 "nbformat_minor": 2
}
